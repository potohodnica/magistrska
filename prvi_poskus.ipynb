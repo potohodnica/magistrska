{
 "cells": [
  {
   "cell_type": "code",
   "execution_count": 13,
   "metadata": {},
   "outputs": [],
   "source": [
    "import numpy as np\n",
    "import matplotlib.pyplot as plt\n",
    "import seaborn as sns\n",
    "import pandas as pd\n",
    "from umap import UMAP\n",
    "%matplotlib inline"
   ]
  },
  {
   "cell_type": "code",
   "execution_count": 41,
   "metadata": {},
   "outputs": [],
   "source": [
    "from os import listdir\n",
    "from os.path import isfile, join\n",
    "from pathlib import Path\n",
    "from functools import reduce"
   ]
  },
  {
   "cell_type": "code",
   "execution_count": 42,
   "metadata": {},
   "outputs": [],
   "source": [
    "potDoSpektrov = Path(r'D:\\magistrska_spektri\\normalized_spectra_R20000\\T_03500')"
   ]
  },
  {
   "cell_type": "code",
   "execution_count": 124,
   "metadata": {},
   "outputs": [],
   "source": [
    "i = 0\n",
    "vrstice = 30\n",
    "stolpci = 3000\n",
    "posamezni_dfji = []\n",
    "for file in listdir(potDoSpektrov):\n",
    "    if i > stolpci:\n",
    "        break\n",
    "    else:\n",
    "        #print(file)\n",
    "      # posamezni_dfji.append(pd.read_csv(str(potDoSpektrov) + '\\\\' + file).head(vrstice))\n",
    "        posamezni_dfji.append(pd.read_csv(str(potDoSpektrov) + '\\\\' + file))\n",
    "        i = i + 1\n",
    "    \n",
    "#print(posamezni_dfji)   \n",
    "df_zdruzeniSpektri = pd.concat(posamezni_dfji, axis=1).T\n",
    "#print(dat1)"
   ]
  },
  {
   "cell_type": "code",
   "execution_count": 125,
   "metadata": {},
   "outputs": [
    {
     "name": "stdout",
     "output_type": "stream",
     "text": [
      "UMAP(min_dist=0.25, random_state=42, verbose=True)\n",
      "Sun Jan 15 23:09:06 2023 Construct fuzzy simplicial set\n",
      "Sun Jan 15 23:09:40 2023 Finding Nearest Neighbors\n",
      "Sun Jan 15 23:09:40 2023 Finished Nearest Neighbor Search\n",
      "Sun Jan 15 23:09:40 2023 Construct embedding\n"
     ]
    },
    {
     "data": {
      "application/vnd.jupyter.widget-view+json": {
       "model_id": "6d8de4c999104d2faa023d3bd0bac081",
       "version_major": 2,
       "version_minor": 0
      },
      "text/plain": [
       "HBox(children=(IntProgress(value=0, description='Epochs completed', max=500, style=ProgressStyle(description_w…"
      ]
     },
     "metadata": {},
     "output_type": "display_data"
    },
    {
     "name": "stdout",
     "output_type": "stream",
     "text": [
      "\n",
      "Sun Jan 15 23:09:44 2023 Finished embedding\n"
     ]
    }
   ],
   "source": [
    "model = UMAP(n_neighbors = 15, min_dist = 0.25, n_components = 2, verbose = True, init='spectral', random_state=42)\n",
    "umap = model.fit_transform(df_zdruzeniSpektri)"
   ]
  },
  {
   "cell_type": "code",
   "execution_count": 126,
   "metadata": {},
   "outputs": [
    {
     "data": {
      "image/png": "[encoded data removed]",
      "text/plain": [
       "<Figure size 432x288 with 1 Axes>"
      ]
     },
     "metadata": {
      "needs_background": "light"
     },
     "output_type": "display_data"
    }
   ],
   "source": [
    "plt.scatter(umap[:, 0], umap[:, 1], cmap = 'tab10', s = 10)\n",
    "plt.show()"
   ]
  },
  {
   "cell_type": "code",
   "execution_count": null,
   "metadata": {},
   "outputs": [],
   "source": []
  }
 ],
 "metadata": {
  "kernelspec": {
   "display_name": "Python 3",
   "language": "python",
   "name": "python3"
  },
  "language_info": {
   "codemirror_mode": {
    "name": "ipython",
    "version": 3
   },
   "file_extension": ".py",
   "mimetype": "text/x-python",
   "name": "python",
   "nbconvert_exporter": "python",
   "pygments_lexer": "ipython3",
   "version": "3.7.4"
  }
 },
 "nbformat": 4,
 "nbformat_minor": 4
}
