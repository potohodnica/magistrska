{
 "cells": [
  {
   "cell_type": "raw",
   "metadata": {},
   "source": [
    "https://www.kaggle.com/code/amsharma7/mnist-pytorch-for-beginners-detailed-desc"
   ]
  },
  {
   "cell_type": "code",
   "execution_count": 1,
   "metadata": {},
   "outputs": [
    {
     "name": "stdout",
     "output_type": "stream",
     "text": [
      "cpu\n"
     ]
    }
   ],
   "source": [
    "#PyTorch Specific libraries\n",
    "import torch\n",
    "from torch import nn, optim\n",
    "import torch.nn.functional as F\n",
    "from torch.autograd import Variable\n",
    "\n",
    "#Data manipulation and visualisation specific libraries\n",
    "import pandas as pd\n",
    "import numpy as np\n",
    "import matplotlib.pyplot as plt\n",
    "\n",
    "# For splitting the data into Train and Test set\n",
    "from sklearn.model_selection import train_test_split\n",
    "\n",
    "# This piece of code is required to make use of the GPU instead of CPU for faster processing\n",
    "device = torch.device(\"cuda:0\" if torch.cuda.is_available() else \"cpu\")\n",
    "print(device)\n",
    "\n",
    "#If it prints \"cuda:0\" that means it has access to GPU. If it prints out \"cpu\", then it's still running on CPU."
   ]
  },
  {
   "cell_type": "code",
   "execution_count": 6,
   "metadata": {},
   "outputs": [],
   "source": [
    "from os import listdir, walk\n",
    "from os.path import isfile, join\n",
    "from pathlib import Path\n",
    "from functools import reduce"
   ]
  },
  {
   "cell_type": "code",
   "execution_count": 8,
   "metadata": {},
   "outputs": [
    {
     "name": "stdout",
     "output_type": "stream",
     "text": [
      "train.shape:\n",
      " (42000, 785)\n",
      "test.shape:\n",
      " (28000, 784)\n"
     ]
    }
   ],
   "source": [
    "train = pd.read_csv(r'C:\\Users\\Jan\\Downloads\\train.csv')\n",
    "test = pd.read_csv(r'C:\\Users\\Jan\\Downloads\\test.csv')\n",
    "\n",
    "#Let's check if they have been loaded properly\n",
    "print('train.shape:\\n', train.shape)\n",
    "print('test.shape:\\n', test.shape)"
   ]
  },
  {
   "cell_type": "code",
   "execution_count": 10,
   "metadata": {},
   "outputs": [],
   "source": [
    "X = train.iloc[:,:-1]\n",
    "y = train.iloc[:,-1:] #Could have done like this \n",
    "y = train.label.values # but needed to convert it to np.ndarray for torch tensor conversion"
   ]
  },
  {
   "cell_type": "code",
   "execution_count": 11,
   "metadata": {},
   "outputs": [
    {
     "name": "stdout",
     "output_type": "stream",
     "text": [
      "X.shape:  (42000, 784) X.type:  <class 'pandas.core.frame.DataFrame'>\n",
      "y.shape:  (42000,) y.type:  <class 'numpy.ndarray'>\n"
     ]
    }
   ],
   "source": [
    "print('X.shape: ', X.shape, 'X.type: ', type(X) )\n",
    "print('y.shape: ', y.shape, 'y.type: ', type(y) )"
   ]
  },
  {
   "cell_type": "code",
   "execution_count": 12,
   "metadata": {},
   "outputs": [
    {
     "name": "stdout",
     "output_type": "stream",
     "text": [
      "X_train.shape:  (37800, 784)\n",
      "y_train.shape:  (37800,)\n",
      "X_test.shape:  (4200, 784)\n",
      "y_test.shape:  (4200,)\n"
     ]
    }
   ],
   "source": [
    "X_train, X_test, y_train, y_test = train_test_split(X, y , test_size = 0.1, random_state = 1)\n",
    "\n",
    "print('X_train.shape: ', X_train.shape)\n",
    "print('y_train.shape: ', y_train.shape)\n",
    "print('X_test.shape: ', X_test.shape)\n",
    "print('y_test.shape: ', y_test.shape)"
   ]
  },
  {
   "cell_type": "code",
   "execution_count": 13,
   "metadata": {},
   "outputs": [],
   "source": [
    "#Rescaling values\n",
    "X_train = X_train.values/255\n",
    "X_test = X_test.values/255"
   ]
  },
  {
   "cell_type": "code",
   "execution_count": 14,
   "metadata": {},
   "outputs": [
    {
     "name": "stdout",
     "output_type": "stream",
     "text": [
      "X_train.dtype: torch.float64\n",
      "X_test.dtype: torch.float64\n",
      "y_train.dtype: torch.int64\n",
      "y_test.dtype: torch.int64\n"
     ]
    }
   ],
   "source": [
    "#Converting to Tensors\n",
    "X_train = torch.from_numpy(X_train)\n",
    "X_test = torch.from_numpy(X_test)\n",
    "\n",
    "y_train = torch.from_numpy(y_train).type(torch.LongTensor)\n",
    "y_test = torch.from_numpy(y_test).type(torch.LongTensor)\n",
    "\n",
    "print('X_train.dtype:', X_train.dtype)\n",
    "print('X_test.dtype:', X_test.dtype)\n",
    "print('y_train.dtype:', y_train.dtype)\n",
    "print('y_test.dtype:', y_test.dtype)"
   ]
  },
  {
   "cell_type": "code",
   "execution_count": 15,
   "metadata": {},
   "outputs": [],
   "source": [
    "train = torch.utils.data.TensorDataset(X_train, y_train)\n",
    "test = torch.utils.data.TensorDataset(X_test, y_test)\n",
    "\n",
    "batch = 100\n",
    "\n",
    "# Set our data loaders\n",
    "train_loader = torch.utils.data.DataLoader(train, batch_size = batch, shuffle = True)\n",
    "test_loader = torch.utils.data.DataLoader(test, batch_size = batch, shuffle = True)"
   ]
  },
  {
   "cell_type": "code",
   "execution_count": 16,
   "metadata": {},
   "outputs": [
    {
     "name": "stdout",
     "output_type": "stream",
     "text": [
      "Net(\n",
      "  (conv1): Conv2d(1, 128, kernel_size=(5, 5), stride=(1, 1))\n",
      "  (pool1): MaxPool2d(kernel_size=2, stride=2, padding=0, dilation=1, ceil_mode=False)\n",
      "  (drop1): Dropout(p=0.3, inplace=False)\n",
      "  (conv2): Conv2d(128, 224, kernel_size=(5, 5), stride=(1, 1))\n",
      "  (pool2): MaxPool2d(kernel_size=2, stride=2, padding=0, dilation=1, ceil_mode=False)\n",
      "  (drop2): Dropout(p=0.4, inplace=False)\n",
      "  (fc3): Linear(in_features=3584, out_features=64, bias=True)\n",
      "  (drop3): Dropout(p=0.4, inplace=False)\n",
      "  (fc4): Linear(in_features=64, out_features=32, bias=True)\n",
      "  (drop4): Dropout(p=0.4, inplace=False)\n",
      "  (fc5): Linear(in_features=32, out_features=10, bias=True)\n",
      "  (softmax): Softmax(dim=1)\n",
      ")\n"
     ]
    }
   ],
   "source": [
    "class Net(nn.Module):\n",
    "    \n",
    "    def __init__(self):\n",
    "        super().__init__()\n",
    "        \n",
    "        self.conv1 = nn.Conv2d(1, 128, 5)\n",
    "        self.pool1 = nn.MaxPool2d(2, 2)\n",
    "        self.drop1 = nn.Dropout(p=0.3)\n",
    "        \n",
    "        self.conv2 = nn.Conv2d(128, 224, 5)\n",
    "        self.pool2 = nn.MaxPool2d(2, 2)\n",
    "        self.drop2 = nn.Dropout(p=0.4)\n",
    "        \n",
    "        self.fc3 = nn.Linear(224*4*4, 64)\n",
    "        self.drop3 = nn.Dropout(p=0.4)\n",
    "        \n",
    "        self.fc4 = nn.Linear(64, 32)\n",
    "        self.drop4 = nn.Dropout(p=0.4)\n",
    "        \n",
    "        self.fc5 = nn.Linear(32, 10)\n",
    "        self.softmax = nn.Softmax(dim=1)\n",
    "   \n",
    "    \n",
    "    def forward(self, x):\n",
    "        x = self.drop1(self.pool1(F.relu(self.conv1(x))))\n",
    "        x = self.drop2(self.pool2(F.relu(self.conv2(x))))\n",
    "        \n",
    "        x = x.view(-1,224*4*4)\n",
    "        \n",
    "        x = self.drop3(F.relu(self.fc3(x)))\n",
    "        x = self.drop4(F.relu(self.fc4(x)))\n",
    "        \n",
    "        x = self.softmax(self.fc5(x))\n",
    "        \n",
    "        return x\n",
    "\n",
    "print(Net()) "
   ]
  },
  {
   "cell_type": "code",
   "execution_count": 17,
   "metadata": {},
   "outputs": [],
   "source": [
    "#Making an object of the Net class\n",
    "model = Net().to(device)\n",
    "\n",
    "#Loss function\n",
    "criterion = nn.CrossEntropyLoss ()"
   ]
  },
  {
   "cell_type": "code",
   "execution_count": 18,
   "metadata": {},
   "outputs": [],
   "source": [
    "# Optimizer\n",
    "optimizer = optim.Adam(model.parameters(), lr = 0.0015)"
   ]
  },
  {
   "cell_type": "code",
   "execution_count": 21,
   "metadata": {},
   "outputs": [],
   "source": [
    "# Initialising variables\n",
    "epochs = 3\n",
    "steps = 0\n",
    "print_every = 100\n",
    "trainLoss = [] \n",
    "testLoss = []"
   ]
  },
  {
   "cell_type": "code",
   "execution_count": 22,
   "metadata": {},
   "outputs": [
    {
     "name": "stdout",
     "output_type": "stream",
     "text": [
      "Epoch: 1/3..  Test Accuracy: 0.965\n",
      "Epoch: 1/3..  Test Accuracy: 0.960\n",
      "Epoch: 1/3..  Test Accuracy: 0.969\n",
      "Epoch: 2/3..  Test Accuracy: 0.972\n",
      "Epoch: 2/3..  Test Accuracy: 0.972\n",
      "Epoch: 2/3..  Test Accuracy: 0.968\n",
      "Epoch: 2/3..  Test Accuracy: 0.971\n",
      "Epoch: 3/3..  Test Accuracy: 0.974\n",
      "Epoch: 3/3..  Test Accuracy: 0.974\n",
      "Epoch: 3/3..  Test Accuracy: 0.975\n",
      "Epoch: 3/3..  Test Accuracy: 0.968\n"
     ]
    }
   ],
   "source": [
    "for e in range(epochs):\n",
    "    running_loss = 0\n",
    "    for images, labels in train_loader:\n",
    "        steps += 1   # Forward pass\n",
    "        \n",
    "        images = (images.view(-1,1,28,28)).type(torch.DoubleTensor)\n",
    "        optimizer.zero_grad()\n",
    "        log_ps = model(images.type(torch.FloatTensor).to(device))\n",
    "        labels = labels.to(device)\n",
    "        loss = criterion(log_ps, labels)\n",
    "        loss.backward()   # Backward pass\n",
    "        optimizer.step()\n",
    "        \n",
    "        running_loss += loss.item()\n",
    "        if steps % print_every == 0:\n",
    "            test_loss = 0\n",
    "            accuracy = 0\n",
    "\n",
    "            with torch.no_grad():\n",
    "                model.eval()\n",
    "                for images, labels in test_loader:\n",
    "                    images = (images.view(-1,1,28,28)).type(torch.DoubleTensor)\n",
    "                    log_ps = model(images.type(torch.FloatTensor).to(device))\n",
    "                    labels = labels.to(device)\n",
    "                    test_loss += criterion(log_ps, labels)\n",
    "                    ps = torch.exp(log_ps)\n",
    "                    \n",
    "                    top_p, top_class = ps.topk(1, dim = 1)\n",
    "                    equals = top_class == labels.view(*top_class.shape)\n",
    "                    accuracy += torch.mean(equals.type(torch.FloatTensor))\n",
    "\n",
    "            model.train()\n",
    "\n",
    "            trainLoss.append(running_loss/len(train_loader))\n",
    "            testLoss.append(test_loss/len(test_loader))\n",
    "\n",
    "            print(\"Epoch: {}/{}.. \".format(e + 1, epochs),\n",
    "                  \"Test Accuracy: {:.3f}\".format(accuracy/len(test_loader)))"
   ]
  },
  {
   "cell_type": "code",
   "execution_count": 23,
   "metadata": {},
   "outputs": [
    {
     "data": {
      "text/plain": [
       "<matplotlib.legend.Legend at 0x206136e7748>"
      ]
     },
     "execution_count": 23,
     "metadata": {},
     "output_type": "execute_result"
    },
    {
     "data": {
      "image/png": "[encoded data removed]",
      "text/plain": [
       "<Figure size 432x288 with 1 Axes>"
      ]
     },
     "metadata": {
      "needs_background": "light"
     },
     "output_type": "display_data"
    }
   ],
   "source": [
    "%matplotlib inline\n",
    "\n",
    "plt.plot(trainLoss, label = 'Training Loss')\n",
    "plt.plot(testLoss, label = 'Validation Loss')\n",
    "plt.legend(frameon = False)"
   ]
  },
  {
   "cell_type": "code",
   "execution_count": 25,
   "metadata": {},
   "outputs": [],
   "source": [
    "test = pd.read_csv(r'C:\\Users\\Jan\\Downloads\\test.csv')\n",
    "\n",
    "finalTest = test.values/255\n",
    "\n",
    "finalTest = torch.from_numpy(finalTest)\n",
    "\n",
    "temp = np.zeros(finalTest.shape)\n",
    "temp = torch.from_numpy(temp)\n",
    "\n",
    "data = torch.utils.data.TensorDataset(finalTest, temp)\n",
    "\n",
    "submissionLoader = torch.utils.data.DataLoader(data, batch_size = batch, shuffle = False)\n",
    "\n",
    "submission = [['ImageId', 'Label']]\n",
    "\n",
    "with torch.no_grad():\n",
    "    model.eval()\n",
    "    image_id = 1\n",
    "    for images, _ in submissionLoader:\n",
    "        images = (images.view(-1,1,28,28)).type(torch.DoubleTensor)\n",
    "        log_ps = model(images.type(torch.FloatTensor).to(device))\n",
    "        ps = torch.exp(log_ps)\n",
    "        top_p, top_class = ps.topk(1, dim = 1)\n",
    "        \n",
    "        for prediction in top_class:\n",
    "            submission.append([image_id, prediction.item()])\n",
    "            image_id += 1\n",
    "            \n",
    "\n",
    "\n",
    "pytorchSubmission = pd.DataFrame(submission)\n",
    "pytorchSubmission.columns = pytorchSubmission.iloc[0]\n",
    "pytorchSubmission = pytorchSubmission.drop(0, axis = 0)\n",
    "\n",
    "pytorchSubmission.to_csv(\"submission.csv\", index = False)"
   ]
  },
  {
   "cell_type": "code",
   "execution_count": null,
   "metadata": {},
   "outputs": [],
   "source": []
  }
 ],
 "metadata": {
  "kernelspec": {
   "display_name": "Python 3",
   "language": "python",
   "name": "python3"
  },
  "language_info": {
   "codemirror_mode": {
    "name": "ipython",
    "version": 3
   },
   "file_extension": ".py",
   "mimetype": "text/x-python",
   "name": "python",
   "nbconvert_exporter": "python",
   "pygments_lexer": "ipython3",
   "version": "3.7.4"
  }
 },
 "nbformat": 4,
 "nbformat_minor": 4
}
