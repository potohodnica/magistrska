{
 "cells": [
  {
   "cell_type": "markdown",
   "metadata": {},
   "source": [
    "### Load libraries"
   ]
  },
  {
   "cell_type": "code",
   "execution_count": 81,
   "metadata": {
    "cellView": "form",
    "id": "lAKG1vcCFwuF"
   },
   "outputs": [],
   "source": [
    "# System libraries\n",
    "import os, urllib\n",
    "import glob\n",
    "from tqdm.notebook import tqdm\n",
    "\n",
    "# Astro libraries\n",
    "import astropy.io.fits as pyfits\n",
    "\n",
    "# PyTorch Specific libraries\n",
    "import torch\n",
    "from torch import nn, optim\n",
    "import torch.nn.functional as F\n",
    "from torch.autograd import Variable\n",
    "\n",
    "# Data manipulation and visualisation specific libraries\n",
    "import pandas as pd\n",
    "import numpy as np\n",
    "import matplotlib.pyplot as plt\n",
    "from functools import reduce\n",
    "\n",
    "# For splitting the data into Train and Test set\n",
    "from sklearn.model_selection import train_test_split\n",
    "\n",
    "# This piece of code is required to make use of the GPU instead of CPU for faster processing\n",
    "device = torch.device(\"cuda:0\" if torch.cuda.is_available() else \"cpu\")\n",
    "#print(device)\n",
    "\n",
    "# If it prints \"cuda:0\" that means it has access to GPU. If it prints out \"cpu\", then it's still running on CPU."
   ]
  },
  {
   "cell_type": "markdown",
   "metadata": {},
   "source": [
    "### Settings"
   ]
  },
  {
   "cell_type": "code",
   "execution_count": 82,
   "metadata": {
    "cellView": "form",
    "id": "2diJMy-OMibQ"
   },
   "outputs": [],
   "source": [
    "# Adjust directory you want to work in\n",
    "#working_directory = '/content/drive/My Drive/mag_sp_mini/'\n",
    "working_directory = 'C:\\\\mag_sp_mini_dl\\\\'\n",
    "#os.chdir(working_directory)\n",
    "\n",
    "# Choose if you want to plot the normalised or reduced spectra\n",
    "normalised = False\n",
    "\n",
    "# Choose if you want to save the plot as PNG file\n",
    "savefig = True\n",
    "\n",
    "# Print messages\n",
    "printmsg = False\n",
    "\n",
    "ccd_dict = {\n",
    "  1: \"B\",\n",
    " # 2: \"G\",\n",
    "  3: \"R\",\n",
    "  4: \"I\"\n",
    "  }\n",
    "\n",
    "ccd_list_keys = list(ccd_dict.keys())\n",
    "ccd_len = len(ccd_list_keys)\n",
    "\n",
    "# Number of binaries and all types of spectra to work with. Input n_all = -1, if you want all available spectra.\n",
    "n_all = 50\n",
    "bin_ratio = 0.3\n",
    "\n",
    "# Initialising variables\n",
    "epochs = 5\n",
    "steps = 0\n",
    "print_every = 100"
   ]
  },
  {
   "cell_type": "markdown",
   "metadata": {
    "id": "pmWsOJe_y3mF"
   },
   "source": [
    "# Preparing GALAH data"
   ]
  },
  {
   "cell_type": "markdown",
   "metadata": {},
   "source": [
    "### Download sobject_ids"
   ]
  },
  {
   "cell_type": "code",
   "execution_count": 83,
   "metadata": {
    "id": "HK2gnb-O9wjy"
   },
   "outputs": [],
   "source": [
    "def download_sobject_ids(bin_or_all):\n",
    "  try:\n",
    "    link= 'https://raw.githubusercontent.com/potohodnica/magistrska/main/galah_' + bin_or_all + '.tsv'\n",
    "    urllib.request.urlretrieve(link, working_directory + 'galah_' + bin_or_all + '.tsv')\n",
    "  except:\n",
    "    if printmsg:\n",
    "      print('Download error osubject_ids.')"
   ]
  },
  {
   "cell_type": "markdown",
   "metadata": {},
   "source": [
    "### Sort and merge sobject_ids"
   ]
  },
  {
   "cell_type": "code",
   "execution_count": 84,
   "metadata": {
    "id": "H7UZIgzUggZg"
   },
   "outputs": [],
   "source": [
    "def sort_sobject_ids(bin_or_all, n):\n",
    "  if bin_or_all == 'bin':\n",
    "    skiprows = 40\n",
    "  else:\n",
    "    skiprows = 37\n",
    "  df = pd.read_csv(working_directory + \"galah_\" + bin_or_all + \".tsv\", on_bad_lines='skip', sep = \";\", skiprows=skiprows, usecols = ['GALAH'], dtype='unicode').drop([0, 1])\n",
    "  df.rename(columns={'GALAH': 'sobject_id'}, inplace=True)\n",
    "  if not n == -1:\n",
    "    df = df.sample(n=n, random_state=42)\n",
    "  df[\"sobject_id\"] = pd.to_numeric(df[\"sobject_id\"])\n",
    "  return df\n",
    "\n",
    "def merge_sobject_ids():\n",
    "  if not os.path.isfile(working_directory + 'galah_bin.tsv'):\n",
    "      download_sobject_ids('bin')\n",
    "  if not os.path.isfile(working_directory + 'galah_all.tsv'):\n",
    "      download_sobject_ids('all')\n",
    "\n",
    "  df_bin = sort_sobject_ids('bin', int(n_all * bin_ratio))\n",
    "  df_all = sort_sobject_ids('all', n_all)\n",
    "  df_merged = pd.merge(df_all, df_bin, how='outer', indicator=True)\n",
    "\n",
    "  df_merged.loc[df_merged['_merge']  == 'left_only', 'bin_tf'] = 0\n",
    "  df_merged.loc[df_merged['_merge']  == 'both', 'bin_tf'] = 1\n",
    "  df_merged.loc[df_merged['_merge']  == 'right_only', 'bin_tf'] = 1\n",
    "  df_merged.drop(['_merge'], axis=1, inplace=True)\n",
    "  return df_merged"
   ]
  },
  {
   "cell_type": "markdown",
   "metadata": {},
   "source": [
    "### Download spectra"
   ]
  },
  {
   "cell_type": "code",
   "execution_count": 85,
   "metadata": {
    "id": "UQVCO8kfMlL3"
   },
   "outputs": [],
   "source": [
    "def download_spectra(sobject_id,ccd):\n",
    "    \"\"\"\n",
    "    Try to download the specfici spectrum from Datacentral\n",
    "    \"\"\"\n",
    "   \n",
    "    try:\n",
    "      link = 'https://datacentral.org.au/vo/slink/links?ID=' + str(sobject_id) + '&DR=galah_dr3&IDX=0&FILT=' + ccd_dict[ccd] + '&RESPONSEFORMAT=fits'\n",
    "      urllib.request.urlretrieve(link, working_directory + str(sobject_id) + str(ccd) + '.fits')\n",
    "      return [working_directory + str(sobject_id) + str(ccd) + '.fits']\n",
    "      print(\"loaded\")\n",
    "    except:\n",
    "      if printmsg:\n",
    "        print('FITS ' + str(sobject_id) + str(ccd) + ' not available')\n",
    "      return []"
   ]
  },
  {
   "cell_type": "markdown",
   "metadata": {},
   "source": [
    "### Read spectra"
   ]
  },
  {
   "cell_type": "code",
   "execution_count": 86,
   "metadata": {
    "id": "Ulmue2_zMxId"
   },
   "outputs": [],
   "source": [
    "def read_spectra(sobject_id):\n",
    "    \"\"\"\n",
    "    Read in all available CCDs and give back a dictionary\n",
    "    Download them if not already in working directory\n",
    "    \"\"\"\n",
    "    \n",
    "    # Check if FITS files already available in working directory\n",
    "    fits_files = [[], [], [], []]\n",
    "    for each_ccd in ccd_list_keys:\n",
    "        fits_files[each_ccd-1] = glob.glob(working_directory+str(sobject_id)+str(each_ccd)+'.fits')\n",
    "    # If not already available, try to download\n",
    "\n",
    "    for each_ccd in ccd_list_keys:\n",
    "        if fits_files[each_ccd-1] == []:\n",
    "            fits_files[each_ccd-1] = download_spectra(sobject_id,each_ccd) \n",
    "    \n",
    "\n",
    "    spectrum = dict()\n",
    "\n",
    "    for each_ccd in ccd_list_keys:\n",
    "        if fits_files[each_ccd-1]!=[]:\n",
    "            fits = pyfits.open(fits_files[each_ccd-1][0])\n",
    "\n",
    "            # Extension 0: Reduced spectrum\n",
    "            # Extension 1: Relative error spectrum\n",
    "            # Extension 4: Normalised spectrum, NB: cut for CCD4\n",
    "\n",
    "            if len(fits) == 5:\n",
    "              ext1 = True\n",
    "              ext4 = True\n",
    "            elif len(fits) == 2:\n",
    "              ext1 = True\n",
    "              ext4 = False\n",
    "              if printmsg:\n",
    "                print('Normalised spectrum missing in',str(each_ccd),'ccd.')\n",
    "            else:\n",
    "              ext1 = False\n",
    "              ext4 = False\n",
    "              if printmsg:\n",
    "                print('Relative error spectrum and normalised spectrum missing in',str(each_ccd),'ccd.')\n",
    "\n",
    "            # Extract wavelength grid for the reduced spectrum\n",
    "            start_wavelength = fits[0].header[\"CRVAL1\"]\n",
    "            dispersion       = fits[0].header[\"CDELT1\"]\n",
    "            nr_pixels        = fits[0].header[\"NAXIS1\"]\n",
    "            reference_pixel  = fits[0].header[\"CRPIX1\"]\n",
    "            if reference_pixel == 0:\n",
    "                reference_pixel = 1\n",
    "            spectrum['wave_red_'+str(each_ccd)] = ((np.arange(0,nr_pixels)--reference_pixel+1)*dispersion+start_wavelength)\n",
    "\n",
    "            if ext4:\n",
    "              # Extract wavelength grid for the normalised spectrum\n",
    "\n",
    "              start_wavelength = fits[4].header[\"CRVAL1\"]\n",
    "              dispersion       = fits[4].header[\"CDELT1\"]\n",
    "              nr_pixels        = fits[4].header[\"NAXIS1\"]\n",
    "              reference_pixel  = fits[4].header[\"CRPIX1\"]\n",
    "              if reference_pixel == 0:\n",
    "                reference_pixel=1\n",
    "              spectrum['wave_norm_'+str(each_ccd)] = ((np.arange(0,nr_pixels)--reference_pixel+1)*dispersion+start_wavelength)\n",
    "\n",
    "            # Extract flux and flux error of reduced spectrum\n",
    "            # Added byteswap for Pandas use ----> https://stackoverflow.com/questions/30283836/creating-pandas-dataframe-from-numpy-array-leads-to-strange-errors\n",
    "            spectrum['sob_red_'+str(each_ccd)]  = np.array(fits[0].data).byteswap().newbyteorder()\n",
    "            if ext1:\n",
    "              spectrum['uob_red_'+str(each_ccd)]  = np.array(fits[0].data * fits[1].data)\n",
    "\n",
    "            if ext4 and ext1: \n",
    "              # Extract flux and flux error of normalised spectrum\n",
    "              spectrum['sob_norm_'+str(each_ccd)] = np.array(fits[4].data)\n",
    "              if each_ccd != 4:\n",
    "                 spectrum['uob_norm_'+str(each_ccd)] = np.array(fits[4].data * fits[1].data)\n",
    "              else:\n",
    "                 # for normalised error of CCD4, only used appropriate parts of error spectrum\n",
    "                 spectrum['uob_norm_4'] = np.array(fits[4].data * (fits[1].data)[-len(spectrum['sob_norm_4']):])\n",
    "\n",
    "            fits.close()\n",
    "        else:\n",
    "            spectrum['wave_red_'+str(each_ccd)] = []\n",
    "            spectrum['wave_norm_'+str(each_ccd)] = []\n",
    "            spectrum['sob_red_'+str(each_ccd)] = []\n",
    "            spectrum['sob_norm_'+str(each_ccd)] = []\n",
    "            spectrum['uob_red_'+str(each_ccd)] = []\n",
    "            spectrum['uob_norm_'+str(each_ccd)] = []\n",
    "    \n",
    "    spectrum['wave_red'] = np.concatenate(([spectrum['wave_red_'+str(each_ccd)] for each_ccd in ccd_list_keys]))\n",
    "    spectrum['sob_red'] = np.concatenate(([spectrum['sob_red_'+str(each_ccd)] for each_ccd in ccd_list_keys]))\n",
    "    if ext4:\n",
    "       spectrum['sob_norm'] = np.concatenate(([spectrum['sob_norm_'+str(each_ccd)] for each_ccd in ccd_list_keys]))\n",
    "       spectrum['wave_norm'] = np.concatenate(([spectrum['wave_norm_'+str(each_ccd)] for each_ccd in ccd_list_keys]))\n",
    "    if ext1:\n",
    "       spectrum['uob_red'] = np.concatenate(([spectrum['uob_red_'+str(each_ccd)] for each_ccd in ccd_list_keys]))\n",
    "    if ext1 and ext4:\n",
    "       spectrum['uob_norm'] = np.concatenate(([spectrum['uob_norm_'+str(each_ccd)] for each_ccd in ccd_list_keys]))\n",
    "    \n",
    "   \n",
    "    return spectrum"
   ]
  },
  {
   "cell_type": "markdown",
   "metadata": {},
   "source": [
    "### Create training set"
   ]
  },
  {
   "cell_type": "code",
   "execution_count": 87,
   "metadata": {
    "id": "WABIlNpqBJ-U"
   },
   "outputs": [],
   "source": [
    "def create_training_set(df_sobject_ids):\n",
    "  X = np.empty(shape=(len(df_sobject_ids.index), 4096, ccd_len))\n",
    "  row = 0\n",
    "      \n",
    "  for sobject_id in df_sobject_ids[\"sobject_id\"].tolist():\n",
    "      print ('Spectrum: ' + str(row + 1) + ' / ' + str(len(df_sobject_ids[\"sobject_id\"].tolist())), end=\"\\r\")\n",
    "      channels = []\n",
    "      try:\n",
    "        spectrum = read_spectra(sobject_id)\n",
    "      except:\n",
    "        pass\n",
    "\n",
    "      for channel_nr in ccd_list_keys:\n",
    "        channel = np.array(spectrum['sob_red_' + str(channel_nr)])\n",
    "        if len(channel) < 4096:\n",
    "          channel = np.pad(channel.astype(float), (0, 4096*1 - channel.size), mode='constant', constant_values=np.nan).reshape(4096,)\n",
    "        elif len(channel) > 4096:\n",
    "          channel = channel[:4096]\n",
    "        channels.append(channel)\n",
    "\n",
    "      X[row] =  np.stack(channels, axis=1)\n",
    "      row = row + 1\n",
    "  y = df_sobject_ids.bin_tf.values\n",
    "\n",
    "  X_train, X_test, y_train, y_test = train_test_split(X, y , test_size = 0.1, random_state = 1)\n",
    "  \n",
    "  X_train_t = torch.from_numpy(X_train).transpose(1,2).float() \n",
    "  y_train_t = torch.from_numpy(y_train).float().type(torch.LongTensor)\n",
    "  print('Finished loading spectra.')\n",
    "  return X_train_t, X_test, y_train_t, y_test"
   ]
  },
  {
   "cell_type": "markdown",
   "metadata": {
    "id": "N4L-ZzWFysch"
   },
   "source": [
    "# Setting pyTorch CNN"
   ]
  },
  {
   "cell_type": "markdown",
   "metadata": {},
   "source": [
    "### Define model, loss function and optimizer"
   ]
  },
  {
   "cell_type": "code",
   "execution_count": 88,
   "metadata": {
    "cellView": "form",
    "id": "D9-CBdtW5Sg7"
   },
   "outputs": [],
   "source": [
    "n_pool = 1\n",
    "conv_l1_out = 10\n",
    "lin_l3_out = 5\n",
    "lin_l4_out = 2\n",
    "class ConvNet1D(nn.Module):\n",
    "    def __init__(self):\n",
    "        super().__init__()\n",
    "        self.layer1 = nn.Sequential(\n",
    "            nn.Conv1d(ccd_len, conv_l1_out, kernel_size=4),\n",
    "            nn.ReLU(),\n",
    "            nn.Dropout(0.5),\n",
    "            nn.AdaptiveMaxPool1d(n_pool))\n",
    "        self.layer2 = nn.Flatten()\n",
    "        self.layer3 = nn.Sequential(\n",
    "           nn.Linear(n_pool * conv_l1_out, lin_l3_out),\n",
    "           nn.ReLU())\n",
    "        self.layer4 = nn.Sequential(\n",
    "            nn.Linear(lin_l3_out,lin_l4_out),\n",
    "            nn.Softmax(dim = 1))\n",
    "\n",
    "    def forward(self, x):\n",
    "\n",
    "        out = self.layer1(x)\n",
    "        out = self.layer2(out)\n",
    "        out = self.layer3(out)\n",
    "        out = self.layer4(out)\n",
    "        return out\n",
    "\n",
    "model = ConvNet1D()\n",
    "criterion = nn.CrossEntropyLoss() #Loss function\n",
    "optimizer = optim.Adam(model.parameters(), lr = 0.0015)\n"
   ]
  },
  {
   "cell_type": "markdown",
   "metadata": {},
   "source": [
    "### Learn"
   ]
  },
  {
   "cell_type": "code",
   "execution_count": 89,
   "metadata": {
    "id": "syQkCgk6_pBZ"
   },
   "outputs": [],
   "source": [
    "def learn(X_train_t, y_train_t):\n",
    "\n",
    "  loss_list = []\n",
    "  outputs_by_epoch = []\n",
    "  \n",
    "  for epoch in range(epochs):\n",
    "    print ('Epochs: ' + str(epoch + 1) + ' / ' + str(epochs), end=\"\\r\")\n",
    "    # Run the forward pass\n",
    "    outputs_t = model(X_train_t)\n",
    "\n",
    "    loss = criterion(outputs_t, y_train_t)\n",
    "    loss_list.append(loss.item())\n",
    "\n",
    "    # Backprop and perform Adam optimisation\n",
    "    optimizer.zero_grad()\n",
    "    loss.backward()\n",
    "    optimizer.step()\n",
    "    outputs_by_epoch.append(outputs_t.cpu().detach().numpy() )\n",
    "  print('Finished learning.')  \n",
    "  return outputs_by_epoch, y_train_t.cpu().detach().numpy()"
   ]
  },
  {
   "cell_type": "markdown",
   "metadata": {},
   "source": [
    "### Learn with batches"
   ]
  },
  {
   "cell_type": "code",
   "execution_count": 90,
   "metadata": {
    "cellView": "form",
    "id": "eeI9PFMHcuFO"
   },
   "outputs": [],
   "source": [
    "def learn_batches():\n",
    "\n",
    "  loss_list = []\n",
    "  outputs_by_epoch = []\n",
    "  y_train = []\n",
    "  \n",
    "  num_epochs = 5  \n",
    "  df_sobject_ids = merge_sobject_ids()\n",
    "\n",
    "  n = len(df_sobject_ids.index)               \n",
    "  batch_size = 5                \n",
    "  parts = n/batch_size\n",
    "  df_shuffled = df_sobject_ids.sample(frac=1, random_state = 42)\n",
    "  df_splits = np.array_split(df_shuffled, parts)\n",
    "\n",
    "  for epoch in tqdm(range(num_epochs)):\n",
    "\n",
    "    for df in df_splits:\n",
    "        X_train_t, X_test, y_train_t, y_test = create_training_set(df)\n",
    "    \n",
    "        # Run the forward pass\n",
    "        outputs_t = model(X_train_t)\n",
    "\n",
    "        loss = criterion(outputs_t, y_train_t)\n",
    "        loss_list.append(loss.item())\n",
    "\n",
    "        # Backprop and perform Adam optimisation\n",
    "        optimizer.zero_grad()\n",
    "        loss.backward()\n",
    "        optimizer.step()\n",
    "\n",
    "        outputs_by_epoch.append(outputs_t.cpu().detach().numpy() )\n",
    "        y_train.append(y_train_t.cpu().detach().numpy())\n",
    "\n",
    "  return outputs_by_epoch, y_train"
   ]
  },
  {
   "cell_type": "markdown",
   "metadata": {},
   "source": [
    "### Evaluate outputs"
   ]
  },
  {
   "cell_type": "code",
   "execution_count": 91,
   "metadata": {
    "id": "d93nf9Xf_2az"
   },
   "outputs": [],
   "source": [
    "def eval_outputs(outputs_by_epoch, y_train):\n",
    "\n",
    "  #### TODO a more efficient eval_outputs function\n",
    "  #### df = pd.DataFrame(outputs_by_epoch[0], columns = ['0','1'])\n",
    "  #### print(df.idxmax(axis=1) )\n",
    "  \n",
    "  results_of_eval = np.empty(shape=(len(outputs_by_epoch), len(y_train)))\n",
    "  for epoch in range(len(outputs_by_epoch)):\n",
    "    for spectrum in range(len(outputs_by_epoch[epoch])):\n",
    "       results_of_eval[epoch][spectrum] = outputs_by_epoch[epoch][spectrum, : ][y_train[spectrum]]\n",
    "  plt.scatter(list(range(len(results_of_eval[0]))), results_of_eval[-1], c = y_train, s = 1)\n",
    "  return results_of_eval"
   ]
  },
  {
   "cell_type": "markdown",
   "metadata": {
    "id": "8eepl5KIzGKM"
   },
   "source": [
    "# Execution"
   ]
  },
  {
   "cell_type": "code",
   "execution_count": 92,
   "metadata": {
    "id": "lTTGRNEO6NZF"
   },
   "outputs": [
    {
     "name": "stdout",
     "output_type": "stream",
     "text": [
      "Finished loading spectra.\n"
     ]
    }
   ],
   "source": [
    "  df_sobject_ids = merge_sobject_ids()\n",
    "  X_train_t, X_test, y_train_t, y_test = create_training_set(df_sobject_ids)"
   ]
  },
  {
   "cell_type": "code",
   "execution_count": 93,
   "metadata": {
    "colab": {
     "base_uri": "https://localhost:8080/",
     "height": 1000,
     "referenced_widgets": [
      "c478d260f6894786b3cf1ac8ef5c836b",
      "6fca651979644b6ba688277bc59a06c9",
      "a930367b2b874e70a42fefd5fd61fed9",
      "55125a6e8fe34a45a02a2153fcce7228",
      "d2375e843fa84a659177d55a38f74b3b",
      "2f1bf1ef361b404f984e34c71f2d65cc",
      "e5b9f1f649974a6ea8a47f7904ead47c",
      "7f94d6c097864cbabc5f836e6e44eecc",
      "c6f694bd629d43e0bc8b07bcd6a2392b",
      "3cb68a7d27f54f20875210246135dbfd",
      "e49d9f51ccc94aae87627cd8b8733f6e",
      "ae7f96d390294792955596197eb356a8",
      "43b71758b06048e8a141c20490b12d2d",
      "771273caac54457a8ee0a6878606d2e3",
      "4d614e4e03cf470bb6e422f859df9484",
      "605b105af3644a6394b8ea12c1315a4c",
      "4ff610c5bbd54b75be9db64489138133",
      "e7701c7e27994ec19d078551d124f52d",
      "1d37c79f30a64999bfbf264c6bd4cc4f",
      "377223136bd846758d7b8339215a7586",
      "132029ff5250436c91582dc425158add",
      "d0a1442d751c4b1197dcd6e612d95d6e"
     ]
    },
    "id": "C0_DdHmzqF_M",
    "outputId": "69c685b0-58b6-436b-d55b-a354805ccfba"
   },
   "outputs": [
    {
     "name": "stdout",
     "output_type": "stream",
     "text": [
      "Finished learning.\n"
     ]
    }
   ],
   "source": [
    "outputs_by_epoch, y_train = learn(X_train_t, y_train_t)"
   ]
  },
  {
   "cell_type": "code",
   "execution_count": 94,
   "metadata": {
    "colab": {
     "base_uri": "https://localhost:8080/",
     "height": 265
    },
    "id": "imkN1X40Fiuh",
    "outputId": "271d9102-2b57-45d5-9729-fe8edd6fb09d"
   },
   "outputs": [
    {
     "data": {
      "image/png": "[encoded data removed]",
      "text/plain": [
       "<Figure size 432x288 with 1 Axes>"
      ]
     },
     "metadata": {
      "needs_background": "light"
     },
     "output_type": "display_data"
    }
   ],
   "source": [
    "results_of_eval = eval_outputs(outputs_by_epoch, y_train)"
   ]
  }
 ],
 "metadata": {
  "colab": {
   "provenance": []
  },
  "gpuClass": "standard",
  "kernelspec": {
   "display_name": "Python 3",
   "language": "python",
   "name": "python3"
  },
  "language_info": {
   "codemirror_mode": {
    "name": "ipython",
    "version": 3
   },
   "file_extension": ".py",
   "mimetype": "text/x-python",
   "name": "python",
   "nbconvert_exporter": "python",
   "pygments_lexer": "ipython3",
   "version": "3.7.4"
  },
  "widgets": {
   "application/vnd.jupyter.widget-state+json": {
    "132029ff5250436c91582dc425158add": {
     "model_module": "@jupyter-widgets/base",
     "model_module_version": "1.2.0",
     "model_name": "LayoutModel",
     "state": {
      "_model_module": "@jupyter-widgets/base",
      "_model_module_version": "1.2.0",
      "_model_name": "LayoutModel",
      "_view_count": null,
      "_view_module": "@jupyter-widgets/base",
      "_view_module_version": "1.2.0",
      "_view_name": "LayoutView",
      "align_content": null,
      "align_items": null,
      "align_self": null,
      "border": null,
      "bottom": null,
      "display": null,
      "flex": null,
      "flex_flow": null,
      "grid_area": null,
      "grid_auto_columns": null,
      "grid_auto_flow": null,
      "grid_auto_rows": null,
      "grid_column": null,
      "grid_gap": null,
      "grid_row": null,
      "grid_template_areas": null,
      "grid_template_columns": null,
      "grid_template_rows": null,
      "height": null,
      "justify_content": null,
      "justify_items": null,
      "left": null,
      "margin": null,
      "max_height": null,
      "max_width": null,
      "min_height": null,
      "min_width": null,
      "object_fit": null,
      "object_position": null,
      "order": null,
      "overflow": null,
      "overflow_x": null,
      "overflow_y": null,
      "padding": null,
      "right": null,
      "top": null,
      "visibility": null,
      "width": null
     }
    },
    "1d37c79f30a64999bfbf264c6bd4cc4f": {
     "model_module": "@jupyter-widgets/base",
     "model_module_version": "1.2.0",
     "model_name": "LayoutModel",
     "state": {
      "_model_module": "@jupyter-widgets/base",
      "_model_module_version": "1.2.0",
      "_model_name": "LayoutModel",
      "_view_count": null,
      "_view_module": "@jupyter-widgets/base",
      "_view_module_version": "1.2.0",
      "_view_name": "LayoutView",
      "align_content": null,
      "align_items": null,
      "align_self": null,
      "border": null,
      "bottom": null,
      "display": null,
      "flex": null,
      "flex_flow": null,
      "grid_area": null,
      "grid_auto_columns": null,
      "grid_auto_flow": null,
      "grid_auto_rows": null,
      "grid_column": null,
      "grid_gap": null,
      "grid_row": null,
      "grid_template_areas": null,
      "grid_template_columns": null,
      "grid_template_rows": null,
      "height": null,
      "justify_content": null,
      "justify_items": null,
      "left": null,
      "margin": null,
      "max_height": null,
      "max_width": null,
      "min_height": null,
      "min_width": null,
      "object_fit": null,
      "object_position": null,
      "order": null,
      "overflow": null,
      "overflow_x": null,
      "overflow_y": null,
      "padding": null,
      "right": null,
      "top": null,
      "visibility": null,
      "width": null
     }
    },
    "2f1bf1ef361b404f984e34c71f2d65cc": {
     "model_module": "@jupyter-widgets/base",
     "model_module_version": "1.2.0",
     "model_name": "LayoutModel",
     "state": {
      "_model_module": "@jupyter-widgets/base",
      "_model_module_version": "1.2.0",
      "_model_name": "LayoutModel",
      "_view_count": null,
      "_view_module": "@jupyter-widgets/base",
      "_view_module_version": "1.2.0",
      "_view_name": "LayoutView",
      "align_content": null,
      "align_items": null,
      "align_self": null,
      "border": null,
      "bottom": null,
      "display": null,
      "flex": null,
      "flex_flow": null,
      "grid_area": null,
      "grid_auto_columns": null,
      "grid_auto_flow": null,
      "grid_auto_rows": null,
      "grid_column": null,
      "grid_gap": null,
      "grid_row": null,
      "grid_template_areas": null,
      "grid_template_columns": null,
      "grid_template_rows": null,
      "height": null,
      "justify_content": null,
      "justify_items": null,
      "left": null,
      "margin": null,
      "max_height": null,
      "max_width": null,
      "min_height": null,
      "min_width": null,
      "object_fit": null,
      "object_position": null,
      "order": null,
      "overflow": null,
      "overflow_x": null,
      "overflow_y": null,
      "padding": null,
      "right": null,
      "top": null,
      "visibility": null,
      "width": null
     }
    },
    "377223136bd846758d7b8339215a7586": {
     "model_module": "@jupyter-widgets/controls",
     "model_module_version": "1.5.0",
     "model_name": "ProgressStyleModel",
     "state": {
      "_model_module": "@jupyter-widgets/controls",
      "_model_module_version": "1.5.0",
      "_model_name": "ProgressStyleModel",
      "_view_count": null,
      "_view_module": "@jupyter-widgets/base",
      "_view_module_version": "1.2.0",
      "_view_name": "StyleView",
      "bar_color": null,
      "description_width": ""
     }
    },
    "3cb68a7d27f54f20875210246135dbfd": {
     "model_module": "@jupyter-widgets/base",
     "model_module_version": "1.2.0",
     "model_name": "LayoutModel",
     "state": {
      "_model_module": "@jupyter-widgets/base",
      "_model_module_version": "1.2.0",
      "_model_name": "LayoutModel",
      "_view_count": null,
      "_view_module": "@jupyter-widgets/base",
      "_view_module_version": "1.2.0",
      "_view_name": "LayoutView",
      "align_content": null,
      "align_items": null,
      "align_self": null,
      "border": null,
      "bottom": null,
      "display": null,
      "flex": null,
      "flex_flow": null,
      "grid_area": null,
      "grid_auto_columns": null,
      "grid_auto_flow": null,
      "grid_auto_rows": null,
      "grid_column": null,
      "grid_gap": null,
      "grid_row": null,
      "grid_template_areas": null,
      "grid_template_columns": null,
      "grid_template_rows": null,
      "height": null,
      "justify_content": null,
      "justify_items": null,
      "left": null,
      "margin": null,
      "max_height": null,
      "max_width": null,
      "min_height": null,
      "min_width": null,
      "object_fit": null,
      "object_position": null,
      "order": null,
      "overflow": null,
      "overflow_x": null,
      "overflow_y": null,
      "padding": null,
      "right": null,
      "top": null,
      "visibility": null,
      "width": null
     }
    },
    "43b71758b06048e8a141c20490b12d2d": {
     "model_module": "@jupyter-widgets/controls",
     "model_module_version": "1.5.0",
     "model_name": "HTMLModel",
     "state": {
      "_dom_classes": [],
      "_model_module": "@jupyter-widgets/controls",
      "_model_module_version": "1.5.0",
      "_model_name": "HTMLModel",
      "_view_count": null,
      "_view_module": "@jupyter-widgets/controls",
      "_view_module_version": "1.5.0",
      "_view_name": "HTMLView",
      "description": "",
      "description_tooltip": null,
      "layout": "IPY_MODEL_4ff610c5bbd54b75be9db64489138133",
      "placeholder": "​",
      "style": "IPY_MODEL_e7701c7e27994ec19d078551d124f52d",
      "value": "Epoch: 100%"
     }
    },
    "4d614e4e03cf470bb6e422f859df9484": {
     "model_module": "@jupyter-widgets/controls",
     "model_module_version": "1.5.0",
     "model_name": "HTMLModel",
     "state": {
      "_dom_classes": [],
      "_model_module": "@jupyter-widgets/controls",
      "_model_module_version": "1.5.0",
      "_model_name": "HTMLModel",
      "_view_count": null,
      "_view_module": "@jupyter-widgets/controls",
      "_view_module_version": "1.5.0",
      "_view_name": "HTMLView",
      "description": "",
      "description_tooltip": null,
      "layout": "IPY_MODEL_132029ff5250436c91582dc425158add",
      "placeholder": "​",
      "style": "IPY_MODEL_d0a1442d751c4b1197dcd6e612d95d6e",
      "value": " 30/30 [00:08&lt;00:00,  4.40it/s]"
     }
    },
    "4ff610c5bbd54b75be9db64489138133": {
     "model_module": "@jupyter-widgets/base",
     "model_module_version": "1.2.0",
     "model_name": "LayoutModel",
     "state": {
      "_model_module": "@jupyter-widgets/base",
      "_model_module_version": "1.2.0",
      "_model_name": "LayoutModel",
      "_view_count": null,
      "_view_module": "@jupyter-widgets/base",
      "_view_module_version": "1.2.0",
      "_view_name": "LayoutView",
      "align_content": null,
      "align_items": null,
      "align_self": null,
      "border": null,
      "bottom": null,
      "display": null,
      "flex": null,
      "flex_flow": null,
      "grid_area": null,
      "grid_auto_columns": null,
      "grid_auto_flow": null,
      "grid_auto_rows": null,
      "grid_column": null,
      "grid_gap": null,
      "grid_row": null,
      "grid_template_areas": null,
      "grid_template_columns": null,
      "grid_template_rows": null,
      "height": null,
      "justify_content": null,
      "justify_items": null,
      "left": null,
      "margin": null,
      "max_height": null,
      "max_width": null,
      "min_height": null,
      "min_width": null,
      "object_fit": null,
      "object_position": null,
      "order": null,
      "overflow": null,
      "overflow_x": null,
      "overflow_y": null,
      "padding": null,
      "right": null,
      "top": null,
      "visibility": null,
      "width": null
     }
    },
    "55125a6e8fe34a45a02a2153fcce7228": {
     "model_module": "@jupyter-widgets/controls",
     "model_module_version": "1.5.0",
     "model_name": "HTMLModel",
     "state": {
      "_dom_classes": [],
      "_model_module": "@jupyter-widgets/controls",
      "_model_module_version": "1.5.0",
      "_model_name": "HTMLModel",
      "_view_count": null,
      "_view_module": "@jupyter-widgets/controls",
      "_view_module_version": "1.5.0",
      "_view_name": "HTMLView",
      "description": "",
      "description_tooltip": null,
      "layout": "IPY_MODEL_3cb68a7d27f54f20875210246135dbfd",
      "placeholder": "​",
      "style": "IPY_MODEL_e49d9f51ccc94aae87627cd8b8733f6e",
      "value": " 650/650 [15:05&lt;00:00,  3.05s/it]"
     }
    },
    "605b105af3644a6394b8ea12c1315a4c": {
     "model_module": "@jupyter-widgets/base",
     "model_module_version": "1.2.0",
     "model_name": "LayoutModel",
     "state": {
      "_model_module": "@jupyter-widgets/base",
      "_model_module_version": "1.2.0",
      "_model_name": "LayoutModel",
      "_view_count": null,
      "_view_module": "@jupyter-widgets/base",
      "_view_module_version": "1.2.0",
      "_view_name": "LayoutView",
      "align_content": null,
      "align_items": null,
      "align_self": null,
      "border": null,
      "bottom": null,
      "display": null,
      "flex": null,
      "flex_flow": null,
      "grid_area": null,
      "grid_auto_columns": null,
      "grid_auto_flow": null,
      "grid_auto_rows": null,
      "grid_column": null,
      "grid_gap": null,
      "grid_row": null,
      "grid_template_areas": null,
      "grid_template_columns": null,
      "grid_template_rows": null,
      "height": null,
      "justify_content": null,
      "justify_items": null,
      "left": null,
      "margin": null,
      "max_height": null,
      "max_width": null,
      "min_height": null,
      "min_width": null,
      "object_fit": null,
      "object_position": null,
      "order": null,
      "overflow": null,
      "overflow_x": null,
      "overflow_y": null,
      "padding": null,
      "right": null,
      "top": null,
      "visibility": null,
      "width": null
     }
    },
    "6fca651979644b6ba688277bc59a06c9": {
     "model_module": "@jupyter-widgets/controls",
     "model_module_version": "1.5.0",
     "model_name": "HTMLModel",
     "state": {
      "_dom_classes": [],
      "_model_module": "@jupyter-widgets/controls",
      "_model_module_version": "1.5.0",
      "_model_name": "HTMLModel",
      "_view_count": null,
      "_view_module": "@jupyter-widgets/controls",
      "_view_module_version": "1.5.0",
      "_view_name": "HTMLView",
      "description": "",
      "description_tooltip": null,
      "layout": "IPY_MODEL_2f1bf1ef361b404f984e34c71f2d65cc",
      "placeholder": "​",
      "style": "IPY_MODEL_e5b9f1f649974a6ea8a47f7904ead47c",
      "value": "Loading spectra 160401004401107 \n: 100%"
     }
    },
    "771273caac54457a8ee0a6878606d2e3": {
     "model_module": "@jupyter-widgets/controls",
     "model_module_version": "1.5.0",
     "model_name": "FloatProgressModel",
     "state": {
      "_dom_classes": [],
      "_model_module": "@jupyter-widgets/controls",
      "_model_module_version": "1.5.0",
      "_model_name": "FloatProgressModel",
      "_view_count": null,
      "_view_module": "@jupyter-widgets/controls",
      "_view_module_version": "1.5.0",
      "_view_name": "ProgressView",
      "bar_style": "success",
      "description": "",
      "description_tooltip": null,
      "layout": "IPY_MODEL_1d37c79f30a64999bfbf264c6bd4cc4f",
      "max": 30,
      "min": 0,
      "orientation": "horizontal",
      "style": "IPY_MODEL_377223136bd846758d7b8339215a7586",
      "value": 30
     }
    },
    "7f94d6c097864cbabc5f836e6e44eecc": {
     "model_module": "@jupyter-widgets/base",
     "model_module_version": "1.2.0",
     "model_name": "LayoutModel",
     "state": {
      "_model_module": "@jupyter-widgets/base",
      "_model_module_version": "1.2.0",
      "_model_name": "LayoutModel",
      "_view_count": null,
      "_view_module": "@jupyter-widgets/base",
      "_view_module_version": "1.2.0",
      "_view_name": "LayoutView",
      "align_content": null,
      "align_items": null,
      "align_self": null,
      "border": null,
      "bottom": null,
      "display": null,
      "flex": null,
      "flex_flow": null,
      "grid_area": null,
      "grid_auto_columns": null,
      "grid_auto_flow": null,
      "grid_auto_rows": null,
      "grid_column": null,
      "grid_gap": null,
      "grid_row": null,
      "grid_template_areas": null,
      "grid_template_columns": null,
      "grid_template_rows": null,
      "height": null,
      "justify_content": null,
      "justify_items": null,
      "left": null,
      "margin": null,
      "max_height": null,
      "max_width": null,
      "min_height": null,
      "min_width": null,
      "object_fit": null,
      "object_position": null,
      "order": null,
      "overflow": null,
      "overflow_x": null,
      "overflow_y": null,
      "padding": null,
      "right": null,
      "top": null,
      "visibility": null,
      "width": null
     }
    },
    "a930367b2b874e70a42fefd5fd61fed9": {
     "model_module": "@jupyter-widgets/controls",
     "model_module_version": "1.5.0",
     "model_name": "FloatProgressModel",
     "state": {
      "_dom_classes": [],
      "_model_module": "@jupyter-widgets/controls",
      "_model_module_version": "1.5.0",
      "_model_name": "FloatProgressModel",
      "_view_count": null,
      "_view_module": "@jupyter-widgets/controls",
      "_view_module_version": "1.5.0",
      "_view_name": "ProgressView",
      "bar_style": "",
      "description": "",
      "description_tooltip": null,
      "layout": "IPY_MODEL_7f94d6c097864cbabc5f836e6e44eecc",
      "max": 650,
      "min": 0,
      "orientation": "horizontal",
      "style": "IPY_MODEL_c6f694bd629d43e0bc8b07bcd6a2392b",
      "value": 650
     }
    },
    "ae7f96d390294792955596197eb356a8": {
     "model_module": "@jupyter-widgets/controls",
     "model_module_version": "1.5.0",
     "model_name": "HBoxModel",
     "state": {
      "_dom_classes": [],
      "_model_module": "@jupyter-widgets/controls",
      "_model_module_version": "1.5.0",
      "_model_name": "HBoxModel",
      "_view_count": null,
      "_view_module": "@jupyter-widgets/controls",
      "_view_module_version": "1.5.0",
      "_view_name": "HBoxView",
      "box_style": "",
      "children": [
       "IPY_MODEL_43b71758b06048e8a141c20490b12d2d",
       "IPY_MODEL_771273caac54457a8ee0a6878606d2e3",
       "IPY_MODEL_4d614e4e03cf470bb6e422f859df9484"
      ],
      "layout": "IPY_MODEL_605b105af3644a6394b8ea12c1315a4c"
     }
    },
    "c478d260f6894786b3cf1ac8ef5c836b": {
     "model_module": "@jupyter-widgets/controls",
     "model_module_version": "1.5.0",
     "model_name": "HBoxModel",
     "state": {
      "_dom_classes": [],
      "_model_module": "@jupyter-widgets/controls",
      "_model_module_version": "1.5.0",
      "_model_name": "HBoxModel",
      "_view_count": null,
      "_view_module": "@jupyter-widgets/controls",
      "_view_module_version": "1.5.0",
      "_view_name": "HBoxView",
      "box_style": "",
      "children": [
       "IPY_MODEL_6fca651979644b6ba688277bc59a06c9",
       "IPY_MODEL_a930367b2b874e70a42fefd5fd61fed9",
       "IPY_MODEL_55125a6e8fe34a45a02a2153fcce7228"
      ],
      "layout": "IPY_MODEL_d2375e843fa84a659177d55a38f74b3b"
     }
    },
    "c6f694bd629d43e0bc8b07bcd6a2392b": {
     "model_module": "@jupyter-widgets/controls",
     "model_module_version": "1.5.0",
     "model_name": "ProgressStyleModel",
     "state": {
      "_model_module": "@jupyter-widgets/controls",
      "_model_module_version": "1.5.0",
      "_model_name": "ProgressStyleModel",
      "_view_count": null,
      "_view_module": "@jupyter-widgets/base",
      "_view_module_version": "1.2.0",
      "_view_name": "StyleView",
      "bar_color": null,
      "description_width": ""
     }
    },
    "d0a1442d751c4b1197dcd6e612d95d6e": {
     "model_module": "@jupyter-widgets/controls",
     "model_module_version": "1.5.0",
     "model_name": "DescriptionStyleModel",
     "state": {
      "_model_module": "@jupyter-widgets/controls",
      "_model_module_version": "1.5.0",
      "_model_name": "DescriptionStyleModel",
      "_view_count": null,
      "_view_module": "@jupyter-widgets/base",
      "_view_module_version": "1.2.0",
      "_view_name": "StyleView",
      "description_width": ""
     }
    },
    "d2375e843fa84a659177d55a38f74b3b": {
     "model_module": "@jupyter-widgets/base",
     "model_module_version": "1.2.0",
     "model_name": "LayoutModel",
     "state": {
      "_model_module": "@jupyter-widgets/base",
      "_model_module_version": "1.2.0",
      "_model_name": "LayoutModel",
      "_view_count": null,
      "_view_module": "@jupyter-widgets/base",
      "_view_module_version": "1.2.0",
      "_view_name": "LayoutView",
      "align_content": null,
      "align_items": null,
      "align_self": null,
      "border": null,
      "bottom": null,
      "display": null,
      "flex": null,
      "flex_flow": null,
      "grid_area": null,
      "grid_auto_columns": null,
      "grid_auto_flow": null,
      "grid_auto_rows": null,
      "grid_column": null,
      "grid_gap": null,
      "grid_row": null,
      "grid_template_areas": null,
      "grid_template_columns": null,
      "grid_template_rows": null,
      "height": null,
      "justify_content": null,
      "justify_items": null,
      "left": null,
      "margin": null,
      "max_height": null,
      "max_width": null,
      "min_height": null,
      "min_width": null,
      "object_fit": null,
      "object_position": null,
      "order": null,
      "overflow": null,
      "overflow_x": null,
      "overflow_y": null,
      "padding": null,
      "right": null,
      "top": null,
      "visibility": "hidden",
      "width": null
     }
    },
    "e49d9f51ccc94aae87627cd8b8733f6e": {
     "model_module": "@jupyter-widgets/controls",
     "model_module_version": "1.5.0",
     "model_name": "DescriptionStyleModel",
     "state": {
      "_model_module": "@jupyter-widgets/controls",
      "_model_module_version": "1.5.0",
      "_model_name": "DescriptionStyleModel",
      "_view_count": null,
      "_view_module": "@jupyter-widgets/base",
      "_view_module_version": "1.2.0",
      "_view_name": "StyleView",
      "description_width": ""
     }
    },
    "e5b9f1f649974a6ea8a47f7904ead47c": {
     "model_module": "@jupyter-widgets/controls",
     "model_module_version": "1.5.0",
     "model_name": "DescriptionStyleModel",
     "state": {
      "_model_module": "@jupyter-widgets/controls",
      "_model_module_version": "1.5.0",
      "_model_name": "DescriptionStyleModel",
      "_view_count": null,
      "_view_module": "@jupyter-widgets/base",
      "_view_module_version": "1.2.0",
      "_view_name": "StyleView",
      "description_width": ""
     }
    },
    "e7701c7e27994ec19d078551d124f52d": {
     "model_module": "@jupyter-widgets/controls",
     "model_module_version": "1.5.0",
     "model_name": "DescriptionStyleModel",
     "state": {
      "_model_module": "@jupyter-widgets/controls",
      "_model_module_version": "1.5.0",
      "_model_name": "DescriptionStyleModel",
      "_view_count": null,
      "_view_module": "@jupyter-widgets/base",
      "_view_module_version": "1.2.0",
      "_view_name": "StyleView",
      "description_width": ""
     }
    }
   }
  }
 },
 "nbformat": 4,
 "nbformat_minor": 4
}
