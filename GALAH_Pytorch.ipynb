{
  "nbformat": 4,
  "nbformat_minor": 0,
  "metadata": {
    "colab": {
      "provenance": [],
      "authorship_tag": "ABX9TyMGgBYrhySs/sHMn7iJLKtw",
      "include_colab_link": true
    },
    "kernelspec": {
      "name": "python3",
      "display_name": "Python 3"
    },
    "language_info": {
      "name": "python"
    },
    "accelerator": "GPU",
    "gpuClass": "standard"
  },
  "cells": [
    {
      "cell_type": "markdown",
      "metadata": {
        "id": "view-in-github",
        "colab_type": "text"
      },
      "source": [
        "<a href=\"https://colab.research.google.com/github/potohodnica/magistrska/blob/main/GALAH_Pytorch.ipynb\" target=\"_parent\"><img src=\"https://colab.research.google.com/assets/colab-badge.svg\" alt=\"Open In Colab\"/></a>"
      ]
    },
    {
      "cell_type": "code",
      "execution_count": 1,
      "metadata": {
        "id": "lAKG1vcCFwuF",
        "colab": {
          "base_uri": "https://localhost:8080/"
        },
        "cellView": "form",
        "outputId": "cb744b00-9928-4553-d39d-9eefdc72b783"
      },
      "outputs": [
        {
          "output_type": "stream",
          "name": "stdout",
          "text": [
            "cuda:0\n"
          ]
        }
      ],
      "source": [
        "#@title Load libraries\n",
        "\n",
        "# System libraries\n",
        "import os, urllib\n",
        "import glob\n",
        "\n",
        "# Astro libraries\n",
        "import astropy.io.fits as pyfits\n",
        "\n",
        "# PyTorch Specific libraries\n",
        "import torch\n",
        "from torch import nn, optim\n",
        "import torch.nn.functional as F\n",
        "from torch.autograd import Variable\n",
        "\n",
        "# Data manipulation and visualisation specific libraries\n",
        "import pandas as pd\n",
        "import numpy as np\n",
        "import matplotlib.pyplot as plt\n",
        "from functools import reduce\n",
        "\n",
        "# For splitting the data into Train and Test set\n",
        "from sklearn.model_selection import train_test_split\n",
        "\n",
        "# This piece of code is required to make use of the GPU instead of CPU for faster processing\n",
        "device = torch.device(\"cuda:0\" if torch.cuda.is_available() else \"cpu\")\n",
        "print(device)\n",
        "\n",
        "# If it prints \"cuda:0\" that means it has access to GPU. If it prints out \"cpu\", then it's still running on CPU."
      ]
    },
    {
      "cell_type": "code",
      "source": [
        "#@title Settings\n",
        "\n",
        "# Adjust directory you want to work in\n",
        "working_directory = '/content/'\n",
        "os.chdir(working_directory)\n",
        "\n",
        "# Choose if you want to plot the normalised or reduced spectra\n",
        "normalised = False\n",
        "\n",
        "# Choose if you want to save the plot as PNG file\n",
        "savefig = True\n",
        "\n",
        "# Print messages\n",
        "printmsg = False"
      ],
      "metadata": {
        "id": "2diJMy-OMibQ",
        "cellView": "form"
      },
      "execution_count": 8,
      "outputs": []
    },
    {
      "cell_type": "code",
      "source": [
        "#@title Download osubject_ids\n",
        "\n",
        "def download_sobject_ids(bin_or_all):\n",
        "  try:\n",
        "    link= 'https://raw.githubusercontent.com/potohodnica/magistrska/main/galah_binaries.tsv'\n",
        "    urllib.request.urlretrieve(link, '/content/galah_' + bin_or_all + '.tsv')\n",
        "  except:\n",
        "    if printmsg:\n",
        "      print('Download error osubject_ids.')"
      ],
      "metadata": {
        "id": "HK2gnb-O9wjy"
      },
      "execution_count": 14,
      "outputs": []
    },
    {
      "cell_type": "code",
      "source": [
        "#@title Download spectra\n",
        "\n",
        "def download_spectra(sobject_id,ccd):\n",
        "    \"\"\"\n",
        "    Try to download the specfici spectrum from Datacentral\n",
        "    \"\"\"\n",
        "\n",
        "    ccd_dict = {\n",
        "      1: \"B\",\n",
        "      2: \"G\",\n",
        "      3: \"R\",\n",
        "      4: \"I\"\n",
        "      }\n",
        "   \n",
        "    try:\n",
        "      link = 'https://datacentral.org.au/vo/slink/links?ID=' + str(sobject_id) + '&DR=galah_dr3&IDX=0&FILT=' + ccd_dict[ccd] + '&RESPONSEFORMAT=fits'\n",
        "      urllib.request.urlretrieve(link, '/content/'+str(sobject_id)+str(ccd)+'.fits')\n",
        "      return [working_directory+str(sobject_id)+str(ccd)+'.fits']\n",
        "    except:\n",
        "      if printmsg:\n",
        "        print('FITS '+str(sobject_id)+str(ccd)+' not available')\n",
        "      return []"
      ],
      "metadata": {
        "id": "UQVCO8kfMlL3",
        "cellView": "form"
      },
      "execution_count": null,
      "outputs": []
    },
    {
      "cell_type": "code",
      "source": [
        "#@title Read spectra\n",
        "\n",
        "def read_spectra(sobject_id, tutorial=True):\n",
        "    \"\"\"\n",
        "    Read in all available CCDs and give back a dictionary\n",
        "    Download them if not already in working directory\n",
        "    \"\"\"\n",
        "    \n",
        "    # Check if FITS files already available in working directory\n",
        "    fits_files = [[], [], [], []]\n",
        "    for each_ccd in [1,2,3,4]:\n",
        "        fits_files[each_ccd-1] = glob.glob(working_directory+str(sobject_id)+str(each_ccd)+'.fits')\n",
        "    # If not already available, try to download\n",
        "    for each_ccd in [1,2,3,4]:\n",
        "        if fits_files[each_ccd-1] == []:\n",
        "            fits_files[each_ccd-1] = download_spectra(sobject_id,each_ccd)\n",
        "    \n",
        "    spectrum = dict()\n",
        "\n",
        "    for each_ccd in [1,2,3,4]:\n",
        "        if fits_files[each_ccd-1]!=[]:\n",
        "            fits = pyfits.open(fits_files[each_ccd-1][0])\n",
        "\n",
        "            # Extension 0: Reduced spectrum\n",
        "            # Extension 1: Relative error spectrum\n",
        "            # Extension 4: Normalised spectrum, NB: cut for CCD4\n",
        "\n",
        "            if len(fits) == 5:\n",
        "              ext1 = True\n",
        "              ext4 = True\n",
        "            elif len(fits) == 2:\n",
        "              ext1 = True\n",
        "              ext4 = False\n",
        "              if printmsg:\n",
        "                print('Normalised spectrum missing in',str(each_ccd),'ccd.')\n",
        "            else:\n",
        "              ext1 = False\n",
        "              ext4 = False\n",
        "              if printmsg:\n",
        "                print('Relative error spectrum and normalised spectrum missing in',str(each_ccd),'ccd.')\n",
        "\n",
        "            # Extract wavelength grid for the reduced spectrum\n",
        "            start_wavelength = fits[0].header[\"CRVAL1\"]\n",
        "            dispersion       = fits[0].header[\"CDELT1\"]\n",
        "            nr_pixels        = fits[0].header[\"NAXIS1\"]\n",
        "            reference_pixel  = fits[0].header[\"CRPIX1\"]\n",
        "            if reference_pixel == 0:\n",
        "                reference_pixel = 1\n",
        "            spectrum['wave_red_'+str(each_ccd)] = ((np.arange(0,nr_pixels)--reference_pixel+1)*dispersion+start_wavelength)\n",
        "\n",
        "            if ext4:\n",
        "              # Extract wavelength grid for the normalised spectrum\n",
        "\n",
        "              start_wavelength = fits[4].header[\"CRVAL1\"]\n",
        "              dispersion       = fits[4].header[\"CDELT1\"]\n",
        "              nr_pixels        = fits[4].header[\"NAXIS1\"]\n",
        "              reference_pixel  = fits[4].header[\"CRPIX1\"]\n",
        "              if reference_pixel == 0:\n",
        "                reference_pixel=1\n",
        "              spectrum['wave_norm_'+str(each_ccd)] = ((np.arange(0,nr_pixels)--reference_pixel+1)*dispersion+start_wavelength)\n",
        "\n",
        "            # Extract flux and flux error of reduced spectrum\n",
        "            # Added byteswap for Pandas use ----> https://stackoverflow.com/questions/30283836/creating-pandas-dataframe-from-numpy-array-leads-to-strange-errors\n",
        "            spectrum['sob_red_'+str(each_ccd)]  = np.array(fits[0].data).byteswap().newbyteorder()\n",
        "            if ext1:\n",
        "              spectrum['uob_red_'+str(each_ccd)]  = np.array(fits[0].data * fits[1].data)\n",
        "\n",
        "            if ext4 and ext1: \n",
        "              # Extract flux and flux error of normalised spectrum\n",
        "              spectrum['sob_norm_'+str(each_ccd)] = np.array(fits[4].data)\n",
        "              if each_ccd != 4:\n",
        "                 spectrum['uob_norm_'+str(each_ccd)] = np.array(fits[4].data * fits[1].data)\n",
        "              else:\n",
        "                 # for normalised error of CCD4, only used appropriate parts of error spectrum\n",
        "                 spectrum['uob_norm_4'] = np.array(fits[4].data * (fits[1].data)[-len(spectrum['sob_norm_4']):])\n",
        "\n",
        "            fits.close()\n",
        "        else:\n",
        "            spectrum['wave_red_'+str(each_ccd)] = []\n",
        "            spectrum['wave_norm_'+str(each_ccd)] = []\n",
        "            spectrum['sob_red_'+str(each_ccd)] = []\n",
        "            spectrum['sob_norm_'+str(each_ccd)] = []\n",
        "            spectrum['uob_red_'+str(each_ccd)] = []\n",
        "            spectrum['uob_norm_'+str(each_ccd)] = []\n",
        "    \n",
        "    spectrum['wave_red'] = np.concatenate(([spectrum['wave_red_'+str(each_ccd)] for each_ccd in [1,2,3,4]]))\n",
        "    spectrum['sob_red'] = np.concatenate(([spectrum['sob_red_'+str(each_ccd)] for each_ccd in [1,2,3,4]]))\n",
        "    if ext4:\n",
        "       spectrum['sob_norm'] = np.concatenate(([spectrum['sob_norm_'+str(each_ccd)] for each_ccd in [1,2,3,4]]))\n",
        "       spectrum['wave_norm'] = np.concatenate(([spectrum['wave_norm_'+str(each_ccd)] for each_ccd in [1,2,3,4]]))\n",
        "    if ext1:\n",
        "       spectrum['uob_red'] = np.concatenate(([spectrum['uob_red_'+str(each_ccd)] for each_ccd in [1,2,3,4]]))\n",
        "    if ext1 and ext4:\n",
        "       spectrum['uob_norm'] = np.concatenate(([spectrum['uob_norm_'+str(each_ccd)] for each_ccd in [1,2,3,4]]))\n",
        "    \n",
        "   \n",
        "    return spectrum"
      ],
      "metadata": {
        "id": "Ulmue2_zMxId",
        "cellView": "form"
      },
      "execution_count": null,
      "outputs": []
    },
    {
      "cell_type": "code",
      "source": [
        "if not os.path.isfile('/content/galah_binaries.tsv'):\n",
        "  download_sobject_ids('bin')\n",
        "if not os.path.isfile('/content/galah_all.tsv'):\n",
        "  download_sobject_ids('all')\n",
        "df = pd.read_csv(\"/content/galah_bin.tsv\", error_bad_lines=False, sep = \";\", skiprows=40, usecols = ['GALAH'])\n",
        "df = df.sample(frac=0.02)\n",
        "print(df)"
      ],
      "metadata": {
        "colab": {
          "base_uri": "https://localhost:8080/"
        },
        "id": "WABIlNpqBJ-U",
        "outputId": "c0001a8b-8fe0-4134-8a18-b99fc054e80f"
      },
      "execution_count": 25,
      "outputs": [
        {
          "output_type": "stream",
          "name": "stdout",
          "text": [
            "                GALAH\n",
            "3547  160520006001227\n",
            "1074  140415002401276\n",
            "90    170710003201365\n",
            "3625  160524006101158\n",
            "2864  160130004601345\n",
            "...               ...\n",
            "3529  160520003601178\n",
            "4931  170217001601268\n",
            "1468  140814003801006\n",
            "4480  170106002601014\n",
            "824   180101005001361\n",
            "\n",
            "[118 rows x 1 columns]\n"
          ]
        },
        {
          "output_type": "stream",
          "name": "stderr",
          "text": [
            "/usr/local/lib/python3.8/dist-packages/IPython/core/interactiveshell.py:3326: FutureWarning: The error_bad_lines argument has been deprecated and will be removed in a future version.\n",
            "\n",
            "\n",
            "  exec(code_obj, self.user_global_ns, self.user_ns)\n"
          ]
        }
      ]
    }
  ]
}