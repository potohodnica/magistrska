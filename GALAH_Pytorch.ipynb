{
  "cells": [
    {
      "cell_type": "markdown",
      "metadata": {
        "id": "view-in-github",
        "colab_type": "text"
      },
      "source": [
        "<a href=\"https://colab.research.google.com/github/potohodnica/magistrska/blob/main/GALAH_Pytorch.ipynb\" target=\"_parent\"><img src=\"https://colab.research.google.com/assets/colab-badge.svg\" alt=\"Open In Colab\"/></a>"
      ]
    },
    {
      "cell_type": "code",
      "execution_count": null,
      "metadata": {
        "cellView": "form",
        "id": "lAKG1vcCFwuF"
      },
      "outputs": [],
      "source": [
        "#@title Load libraries\n",
        "\n",
        "# System libraries\n",
        "import os, urllib\n",
        "import glob\n",
        "from tqdm.notebook import tqdm\n",
        "\n",
        "# Astro libraries\n",
        "import astropy.io.fits as pyfits\n",
        "\n",
        "# PyTorch Specific libraries\n",
        "import torch\n",
        "from torch import nn, optim\n",
        "import torch.nn.functional as F\n",
        "from torch.autograd import Variable\n",
        "\n",
        "# Data manipulation and visualisation specific libraries\n",
        "import pandas as pd\n",
        "import numpy as np\n",
        "import matplotlib.pyplot as plt\n",
        "from functools import reduce\n",
        "\n",
        "# For splitting the data into Train and Test set\n",
        "from sklearn.model_selection import train_test_split\n",
        "\n",
        "# This piece of code is required to make use of the GPU instead of CPU for faster processing\n",
        "device = torch.device(\"cuda:0\" if torch.cuda.is_available() else \"cpu\")\n",
        "#print(device)\n",
        "\n",
        "# If it prints \"cuda:0\" that means it has access to GPU. If it prints out \"cpu\", then it's still running on CPU."
      ]
    },
    {
      "cell_type": "code",
      "execution_count": null,
      "metadata": {
        "id": "2diJMy-OMibQ"
      },
      "outputs": [],
      "source": [
        "#@title Settings\n",
        "\n",
        "# Adjust directory you want to work in\n",
        "working_directory = '/content/'\n",
        "os.chdir(working_directory)\n",
        "\n",
        "# Choose if you want to plot the normalised or reduced spectra\n",
        "normalised = False\n",
        "\n",
        "# Choose if you want to save the plot as PNG file\n",
        "savefig = True\n",
        "\n",
        "# Print messages\n",
        "printmsg = False\n",
        "\n",
        "ccd_dict = {\n",
        "  1: \"B\",\n",
        " # 2: \"G\",\n",
        "  3: \"R\",\n",
        "  4: \"I\"\n",
        "  }\n",
        "\n",
        "ccd_list_keys = list(ccd_dict.keys())\n",
        "ccd_len = len(ccd_list_keys)\n",
        "\n",
        "# Number of binaries and all types of spectra to work with. Input n_all = -1, if you want all available spectra.\n",
        "n_all = 120\n",
        "bin_ratio = 0.1\n",
        "\n",
        "# Initialising variables\n",
        "epochs = 30\n",
        "steps = 0\n",
        "print_every = 100"
      ]
    },
    {
      "cell_type": "markdown",
      "metadata": {
        "id": "pmWsOJe_y3mF"
      },
      "source": [
        "# Preparing GALAH data"
      ]
    },
    {
      "cell_type": "code",
      "execution_count": null,
      "metadata": {
        "cellView": "form",
        "id": "HK2gnb-O9wjy"
      },
      "outputs": [],
      "source": [
        "#@title Download sobject_ids\n",
        "\n",
        "def download_sobject_ids(bin_or_all):\n",
        "  try:\n",
        "    link= 'https://raw.githubusercontent.com/potohodnica/magistrska/main/galah_binaries.tsv'\n",
        "    urllib.request.urlretrieve(link, working_directory + 'galah_' + bin_or_all + '.tsv')\n",
        "  except:\n",
        "    if printmsg:\n",
        "      print('Download error osubject_ids.')"
      ]
    },
    {
      "cell_type": "code",
      "execution_count": null,
      "metadata": {
        "cellView": "form",
        "id": "H7UZIgzUggZg"
      },
      "outputs": [],
      "source": [
        "#@title Sort and merge sobject_ids\n",
        "\n",
        "def sort_sobject_ids(bin_or_all, n):\n",
        "  df = pd.read_csv(working_directory + \"galah_\" + bin_or_all + \".tsv\", on_bad_lines='skip', sep = \";\", skiprows=40, usecols = ['GALAH']).drop([0, 1])\n",
        "  df.rename(columns={'GALAH': 'sobject_id'}, inplace=True)\n",
        "  if not n == -1:\n",
        "    df = df.sample(n=n, random_state=42)\n",
        "  return df\n",
        "\n",
        "def merge_sobject_ids():\n",
        "  if not os.path.isfile(working_directory + 'galah_binaries.tsv'):\n",
        "      download_sobject_ids('bin')\n",
        "  if not os.path.isfile(working_directory + 'galah_all.tsv'):\n",
        "      download_sobject_ids('all')\n",
        "\n",
        "  df_bin = sort_sobject_ids('bin', int(n_all * bin_ratio))\n",
        "  df_all = sort_sobject_ids('all', n_all)\n",
        "  df_merged = pd.merge(df_all, df_bin, how='outer', indicator=True)\n",
        "\n",
        "  df_merged.loc[df_merged['_merge']  == 'left_only', 'bin_tf'] = 0\n",
        "  df_merged.loc[df_merged['_merge']  == 'both', 'bin_tf'] = 1\n",
        "  df_merged.drop(['_merge'], axis=1, inplace=True)\n",
        "  return df_merged"
      ]
    },
    {
      "cell_type": "code",
      "execution_count": null,
      "metadata": {
        "id": "UQVCO8kfMlL3"
      },
      "outputs": [],
      "source": [
        "#@title Download spectra\n",
        "\n",
        "def download_spectra(sobject_id,ccd):\n",
        "    \"\"\"\n",
        "    Try to download the specfici spectrum from Datacentral\n",
        "    \"\"\"\n",
        "   \n",
        "    try:\n",
        "      link = 'https://datacentral.org.au/vo/slink/links?ID=' + str(sobject_id) + '&DR=galah_dr3&IDX=0&FILT=' + ccd_dict[ccd] + '&RESPONSEFORMAT=fits'\n",
        "      urllib.request.urlretrieve(link, working_directory + str(sobject_id) + str(ccd) + '.fits')\n",
        "      return [working_directory + str(sobject_id) + str(ccd) + '.fits']\n",
        "    except:\n",
        "      if printmsg:\n",
        "        print('FITS ' + str(sobject_id) + str(ccd) + ' not available')\n",
        "      return []"
      ]
    },
    {
      "cell_type": "code",
      "execution_count": null,
      "metadata": {
        "id": "Ulmue2_zMxId"
      },
      "outputs": [],
      "source": [
        "#@title Read spectra\n",
        "\n",
        "def read_spectra(sobject_id):\n",
        "    \"\"\"\n",
        "    Read in all available CCDs and give back a dictionary\n",
        "    Download them if not already in working directory\n",
        "    \"\"\"\n",
        "    \n",
        "    # Check if FITS files already available in working directory\n",
        "    fits_files = [[], [], [], []]\n",
        "    for each_ccd in ccd_list_keys:\n",
        "        fits_files[each_ccd-1] = glob.glob(working_directory+str(sobject_id)+str(each_ccd)+'.fits')\n",
        "    # If not already available, try to download\n",
        "    for each_ccd in ccd_list_keys:\n",
        "        if fits_files[each_ccd-1] == []:\n",
        "            fits_files[each_ccd-1] = download_spectra(sobject_id,each_ccd)\n",
        "\n",
        "    spectrum = dict()\n",
        "\n",
        "    for each_ccd in ccd_list_keys:\n",
        "        if fits_files[each_ccd-1]!=[]:\n",
        "            fits = pyfits.open(fits_files[each_ccd-1][0])\n",
        "\n",
        "            # Extension 0: Reduced spectrum\n",
        "            # Extension 1: Relative error spectrum\n",
        "            # Extension 4: Normalised spectrum, NB: cut for CCD4\n",
        "\n",
        "            if len(fits) == 5:\n",
        "              ext1 = True\n",
        "              ext4 = True\n",
        "            elif len(fits) == 2:\n",
        "              ext1 = True\n",
        "              ext4 = False\n",
        "              if printmsg:\n",
        "                print('Normalised spectrum missing in',str(each_ccd),'ccd.')\n",
        "            else:\n",
        "              ext1 = False\n",
        "              ext4 = False\n",
        "              if printmsg:\n",
        "                print('Relative error spectrum and normalised spectrum missing in',str(each_ccd),'ccd.')\n",
        "\n",
        "            # Extract wavelength grid for the reduced spectrum\n",
        "            start_wavelength = fits[0].header[\"CRVAL1\"]\n",
        "            dispersion       = fits[0].header[\"CDELT1\"]\n",
        "            nr_pixels        = fits[0].header[\"NAXIS1\"]\n",
        "            reference_pixel  = fits[0].header[\"CRPIX1\"]\n",
        "            if reference_pixel == 0:\n",
        "                reference_pixel = 1\n",
        "            spectrum['wave_red_'+str(each_ccd)] = ((np.arange(0,nr_pixels)--reference_pixel+1)*dispersion+start_wavelength)\n",
        "\n",
        "            if ext4:\n",
        "              # Extract wavelength grid for the normalised spectrum\n",
        "\n",
        "              start_wavelength = fits[4].header[\"CRVAL1\"]\n",
        "              dispersion       = fits[4].header[\"CDELT1\"]\n",
        "              nr_pixels        = fits[4].header[\"NAXIS1\"]\n",
        "              reference_pixel  = fits[4].header[\"CRPIX1\"]\n",
        "              if reference_pixel == 0:\n",
        "                reference_pixel=1\n",
        "              spectrum['wave_norm_'+str(each_ccd)] = ((np.arange(0,nr_pixels)--reference_pixel+1)*dispersion+start_wavelength)\n",
        "\n",
        "            # Extract flux and flux error of reduced spectrum\n",
        "            # Added byteswap for Pandas use ----> https://stackoverflow.com/questions/30283836/creating-pandas-dataframe-from-numpy-array-leads-to-strange-errors\n",
        "            spectrum['sob_red_'+str(each_ccd)]  = np.array(fits[0].data).byteswap().newbyteorder()\n",
        "            if ext1:\n",
        "              spectrum['uob_red_'+str(each_ccd)]  = np.array(fits[0].data * fits[1].data)\n",
        "\n",
        "            if ext4 and ext1: \n",
        "              # Extract flux and flux error of normalised spectrum\n",
        "              spectrum['sob_norm_'+str(each_ccd)] = np.array(fits[4].data)\n",
        "              if each_ccd != 4:\n",
        "                 spectrum['uob_norm_'+str(each_ccd)] = np.array(fits[4].data * fits[1].data)\n",
        "              else:\n",
        "                 # for normalised error of CCD4, only used appropriate parts of error spectrum\n",
        "                 spectrum['uob_norm_4'] = np.array(fits[4].data * (fits[1].data)[-len(spectrum['sob_norm_4']):])\n",
        "\n",
        "            fits.close()\n",
        "        else:\n",
        "            spectrum['wave_red_'+str(each_ccd)] = []\n",
        "            spectrum['wave_norm_'+str(each_ccd)] = []\n",
        "            spectrum['sob_red_'+str(each_ccd)] = []\n",
        "            spectrum['sob_norm_'+str(each_ccd)] = []\n",
        "            spectrum['uob_red_'+str(each_ccd)] = []\n",
        "            spectrum['uob_norm_'+str(each_ccd)] = []\n",
        "    \n",
        "    spectrum['wave_red'] = np.concatenate(([spectrum['wave_red_'+str(each_ccd)] for each_ccd in ccd_list_keys]))\n",
        "    spectrum['sob_red'] = np.concatenate(([spectrum['sob_red_'+str(each_ccd)] for each_ccd in ccd_list_keys]))\n",
        "    if ext4:\n",
        "       spectrum['sob_norm'] = np.concatenate(([spectrum['sob_norm_'+str(each_ccd)] for each_ccd in ccd_list_keys]))\n",
        "       spectrum['wave_norm'] = np.concatenate(([spectrum['wave_norm_'+str(each_ccd)] for each_ccd in ccd_list_keys]))\n",
        "    if ext1:\n",
        "       spectrum['uob_red'] = np.concatenate(([spectrum['uob_red_'+str(each_ccd)] for each_ccd in ccd_list_keys]))\n",
        "    if ext1 and ext4:\n",
        "       spectrum['uob_norm'] = np.concatenate(([spectrum['uob_norm_'+str(each_ccd)] for each_ccd in ccd_list_keys]))\n",
        "    \n",
        "   \n",
        "    return spectrum"
      ]
    },
    {
      "cell_type": "code",
      "execution_count": null,
      "metadata": {
        "id": "WABIlNpqBJ-U"
      },
      "outputs": [],
      "source": [
        "#@title Create training set\n",
        "\n",
        "def create_training_set(df_sobject_ids):\n",
        "  X = np.empty(shape=(len(df_sobject_ids.index), 4096, ccd_len))\n",
        "  row = 0\n",
        "      \n",
        "  for sobject_id in (pbar := tqdm(df_sobject_ids[\"sobject_id\"].tolist(), leave=False)):\n",
        "      channels = []\n",
        "      pbar.set_description(f\"Loading spectra {sobject_id} \\n\")\n",
        "      spectrum = read_spectra(sobject_id)\n",
        "\n",
        "      for channel_nr in ccd_list_keys:\n",
        "        channel = np.array(spectrum['sob_red_' + str(channel_nr)])\n",
        "        if len(channel) < 4096:\n",
        "          channel = np.pad(channel.astype(float), (0, 4096*1 - channel.size), mode='constant', constant_values=np.nan).reshape(4096,)\n",
        "        elif len(channel) > 4096:\n",
        "          channel = channel[:4096]\n",
        "        channels.append(channel)\n",
        "\n",
        "      X[row] =  np.stack(channels, axis=1)\n",
        "      row = row + 1\n",
        "  y = df_sobject_ids.bin_tf.values\n",
        "\n",
        "  X_train, X_test, y_train, y_test = train_test_split(X, y , test_size = 0.1, random_state = 1)\n",
        "\n",
        "  X_train_t = torch.from_numpy(X_train).transpose(1,2).float() \n",
        "  y_train_t = torch.from_numpy(y_train).float().type(torch.LongTensor)\n",
        "\n",
        "  return X_train_t, X_test, y_train_t, y_test"
      ]
    },
    {
      "cell_type": "markdown",
      "metadata": {
        "id": "N4L-ZzWFysch"
      },
      "source": [
        "# Setting pyTorch CNN"
      ]
    },
    {
      "cell_type": "code",
      "execution_count": null,
      "metadata": {
        "id": "D9-CBdtW5Sg7"
      },
      "outputs": [],
      "source": [
        "#@title Define model, loss function and optimizer\n",
        "\n",
        "class ConvNet1D(nn.Module):\n",
        "    def __init__(self):\n",
        "        super().__init__()\n",
        "        self.layer1 = nn.Sequential(\n",
        "            nn.Conv1d(ccd_len, 64, kernel_size=1),\n",
        "            nn.ReLU(),\n",
        "            nn.Dropout(0.5),\n",
        "            nn.MaxPool1d(10))\n",
        "        self.layer2 = nn.Flatten()\n",
        "        self.layer3 = nn.Sequential(\n",
        "           nn.Linear(26176,100),\n",
        "           nn.ReLU())\n",
        "        self.layer4 = nn.Sequential(\n",
        "            nn.Linear(100,2),\n",
        "            nn.Softmax(dim = 1))\n",
        "\n",
        "    def forward(self, x):\n",
        "\n",
        "        out = self.layer1(x)\n",
        "        out = self.layer2(out)\n",
        "        out = self.layer3(out)\n",
        "        out = self.layer4(out)\n",
        "        return out\n",
        "\n",
        "model = ConvNet1D()\n",
        "criterion = nn.CrossEntropyLoss() #Loss function\n",
        "optimizer = optim.Adam(model.parameters(), lr = 0.0015)"
      ]
    },
    {
      "cell_type": "code",
      "execution_count": null,
      "metadata": {
        "id": "syQkCgk6_pBZ"
      },
      "outputs": [],
      "source": [
        "#@title Learn\n",
        "\n",
        "def learn():\n",
        "\n",
        "  loss_list = []\n",
        "  outputs_by_epoch = []\n",
        "\n",
        "  num_epochs = 5  \n",
        "  df_sobject_ids = merge_sobject_ids()\n",
        "  total_step = len(df_sobject_ids.index)\n",
        "  X_train_t, X_test, y_train_t, y_test = create_training_set(df_sobject_ids)\n",
        "  \n",
        "  for epoch in (pbar := tqdm(range(num_epochs))):\n",
        "    pbar.set_description(f\"Epoch\")\n",
        "    \n",
        "    # Run the forward pass\n",
        "    outputs_t = model(X_train_t)\n",
        "\n",
        "    loss = criterion(outputs_t, y_train_t)\n",
        "    loss_list.append(loss.item())\n",
        "\n",
        "    # Backprop and perform Adam optimisation\n",
        "    optimizer.zero_grad()\n",
        "    loss.backward()\n",
        "    optimizer.step()\n",
        "\n",
        "    outputs_by_epoch.append(outputs_t.cpu().detach().numpy() )\n",
        "\n",
        "  return outputs_by_epoch, y_train_t.cpu().detach().numpy()"
      ]
    },
    {
      "cell_type": "code",
      "execution_count": null,
      "metadata": {
        "id": "eeI9PFMHcuFO"
      },
      "outputs": [],
      "source": [
        "#@title Learn with batches\n",
        "\n",
        "def learn_batches():\n",
        "\n",
        "  loss_list = []\n",
        "  outputs_by_epoch = []\n",
        "  y_train = []\n",
        "  \n",
        "  num_epochs = 5  \n",
        "  df_sobject_ids = merge_sobject_ids()\n",
        "\n",
        "  n = len(df_sobject_ids.index)               \n",
        "  batch_size = 5                \n",
        "  parts = n/batch_size\n",
        "  df_shuffled = df_sobject_ids.sample(frac=1, random_state = 42)\n",
        "  df_splits = np.array_split(df_shuffled, parts)\n",
        "\n",
        "  for epoch in (pbar := tqdm(range(num_epochs))):\n",
        "    pbar.set_description(f\"Epoch\")\n",
        "\n",
        "    for df in df_splits:\n",
        "        X_train_t, X_test, y_train_t, y_test = create_training_set(df)\n",
        "    \n",
        "        # Run the forward pass\n",
        "        outputs_t = model(X_train_t)\n",
        "\n",
        "        loss = criterion(outputs_t, y_train_t)\n",
        "        loss_list.append(loss.item())\n",
        "\n",
        "        # Backprop and perform Adam optimisation\n",
        "        optimizer.zero_grad()\n",
        "        loss.backward()\n",
        "        optimizer.step()\n",
        "\n",
        "        outputs_by_epoch.append(outputs_t.cpu().detach().numpy() )\n",
        "        y_train.append(y_train_t.cpu().detach().numpy())\n",
        "\n",
        "  return outputs_by_epoch, y_train"
      ]
    },
    {
      "cell_type": "code",
      "execution_count": null,
      "metadata": {
        "id": "d93nf9Xf_2az"
      },
      "outputs": [],
      "source": [
        "def eval_outputs(outputs_by_epoch, y_train):\n",
        "\n",
        "  #### TODO a more efficient eval_outputs function\n",
        "  #### df = pd.DataFrame(outputs_by_epoch[0], columns = ['0','1'])\n",
        "  #### print(df.idxmax(axis=1) )\n",
        "  \n",
        "  results_of_eval = np.empty(shape=(len(outputs_by_epoch), len(y_train)))\n",
        "  for epoch in range(len(outputs_by_epoch)):\n",
        "    for spectrum in range(len(outputs_by_epoch[epoch])):\n",
        "       results_of_eval[epoch][spectrum] = outputs_by_epoch[epoch][spectrum, : ][y_train[spectrum]]\n",
        "  return results_of_eval"
      ]
    },
    {
      "cell_type": "markdown",
      "metadata": {
        "id": "8eepl5KIzGKM"
      },
      "source": [
        "# Execution"
      ]
    },
    {
      "cell_type": "code",
      "execution_count": null,
      "metadata": {
        "colab": {
          "background_save": true,
          "base_uri": "https://localhost:8080/",
          "height": 49,
          "referenced_widgets": [
            "4ee3415915bb41c7aed0f79db2b213e3",
            "f8dea46adfb34e488faef16d7823db95",
            "8cd44bd1f7c0489985b0e6b9ec45f088",
            "b514fbe4b5fd429f933b259d5a3b5821",
            "f7a50711525b44dcb638ba046095b738",
            "edb6d6ffc02e4fedb0240b3c51c775db",
            "ee7d9a1881ed4d19bd9e01d534a7e785",
            "a14d05a2b3bf43c2a9e3e90b4b9cb020",
            "6d7102c9e6e64d9e925b64b53e36083c",
            "6f3846c8945e4976afb3cc1f3c1dce92",
            "4df9f2d0cf9945c28157e5310195db01"
          ]
        },
        "id": "C0_DdHmzqF_M",
        "outputId": "d7b0c8dd-71ff-4c23-c517-4f7a81d504d0"
      },
      "outputs": [
        {
          "data": {
            "application/vnd.jupyter.widget-view+json": {
              "model_id": "4ee3415915bb41c7aed0f79db2b213e3",
              "version_major": 2,
              "version_minor": 0
            },
            "text/plain": [
              "  0%|          | 0/120 [00:00<?, ?it/s]"
            ]
          },
          "metadata": {},
          "output_type": "display_data"
        }
      ],
      "source": [
        "outputs_by_epoch, y_train = learn()"
      ]
    },
    {
      "cell_type": "code",
      "execution_count": null,
      "metadata": {
        "id": "imkN1X40Fiuh"
      },
      "outputs": [],
      "source": [
        "results_of_eval = eval_outputs(outputs_by_epoch, y_train)"
      ]
    },
    {
      "cell_type": "code",
      "execution_count": null,
      "metadata": {
        "id": "X6f0xQL563Ag"
      },
      "outputs": [],
      "source": [
        "display(outputs_by_epoch[0])"
      ]
    },
    {
      "cell_type": "code",
      "execution_count": null,
      "metadata": {
        "id": "lo07x-P5abQL"
      },
      "outputs": [],
      "source": [
        "plt.scatter(list(range(len(results_of_eval[0]))), results_of_eval[-1], c=ytrain)"
      ]
    },
    {
      "cell_type": "code",
      "execution_count": null,
      "metadata": {
        "id": "bAYb72TXiYxh"
      },
      "outputs": [],
      "source": [
        "outputs_by_epoch, y_train = learn_batches()"
      ]
    }
  ],
  "metadata": {
    "colab": {
      "provenance": [],
      "authorship_tag": "ABX9TyMcxP05XoQ0aiFg7Rk0L/v/",
      "include_colab_link": true
    },
    "gpuClass": "standard",
    "kernelspec": {
      "display_name": "Python 3",
      "name": "python3"
    },
    "language_info": {
      "name": "python"
    },
    "widgets": {
      "application/vnd.jupyter.widget-state+json": {
        "4df9f2d0cf9945c28157e5310195db01": {
          "model_module": "@jupyter-widgets/controls",
          "model_module_version": "1.5.0",
          "model_name": "DescriptionStyleModel",
          "state": {
            "_model_module": "@jupyter-widgets/controls",
            "_model_module_version": "1.5.0",
            "_model_name": "DescriptionStyleModel",
            "_view_count": null,
            "_view_module": "@jupyter-widgets/base",
            "_view_module_version": "1.2.0",
            "_view_name": "StyleView",
            "description_width": ""
          }
        },
        "4ee3415915bb41c7aed0f79db2b213e3": {
          "model_module": "@jupyter-widgets/controls",
          "model_module_version": "1.5.0",
          "model_name": "HBoxModel",
          "state": {
            "_dom_classes": [],
            "_model_module": "@jupyter-widgets/controls",
            "_model_module_version": "1.5.0",
            "_model_name": "HBoxModel",
            "_view_count": null,
            "_view_module": "@jupyter-widgets/controls",
            "_view_module_version": "1.5.0",
            "_view_name": "HBoxView",
            "box_style": "",
            "children": [
              "IPY_MODEL_f8dea46adfb34e488faef16d7823db95",
              "IPY_MODEL_8cd44bd1f7c0489985b0e6b9ec45f088",
              "IPY_MODEL_b514fbe4b5fd429f933b259d5a3b5821"
            ],
            "layout": "IPY_MODEL_f7a50711525b44dcb638ba046095b738"
          }
        },
        "6d7102c9e6e64d9e925b64b53e36083c": {
          "model_module": "@jupyter-widgets/controls",
          "model_module_version": "1.5.0",
          "model_name": "ProgressStyleModel",
          "state": {
            "_model_module": "@jupyter-widgets/controls",
            "_model_module_version": "1.5.0",
            "_model_name": "ProgressStyleModel",
            "_view_count": null,
            "_view_module": "@jupyter-widgets/base",
            "_view_module_version": "1.2.0",
            "_view_name": "StyleView",
            "bar_color": null,
            "description_width": ""
          }
        },
        "6f3846c8945e4976afb3cc1f3c1dce92": {
          "model_module": "@jupyter-widgets/base",
          "model_module_version": "1.2.0",
          "model_name": "LayoutModel",
          "state": {
            "_model_module": "@jupyter-widgets/base",
            "_model_module_version": "1.2.0",
            "_model_name": "LayoutModel",
            "_view_count": null,
            "_view_module": "@jupyter-widgets/base",
            "_view_module_version": "1.2.0",
            "_view_name": "LayoutView",
            "align_content": null,
            "align_items": null,
            "align_self": null,
            "border": null,
            "bottom": null,
            "display": null,
            "flex": null,
            "flex_flow": null,
            "grid_area": null,
            "grid_auto_columns": null,
            "grid_auto_flow": null,
            "grid_auto_rows": null,
            "grid_column": null,
            "grid_gap": null,
            "grid_row": null,
            "grid_template_areas": null,
            "grid_template_columns": null,
            "grid_template_rows": null,
            "height": null,
            "justify_content": null,
            "justify_items": null,
            "left": null,
            "margin": null,
            "max_height": null,
            "max_width": null,
            "min_height": null,
            "min_width": null,
            "object_fit": null,
            "object_position": null,
            "order": null,
            "overflow": null,
            "overflow_x": null,
            "overflow_y": null,
            "padding": null,
            "right": null,
            "top": null,
            "visibility": null,
            "width": null
          }
        },
        "8cd44bd1f7c0489985b0e6b9ec45f088": {
          "model_module": "@jupyter-widgets/controls",
          "model_module_version": "1.5.0",
          "model_name": "FloatProgressModel",
          "state": {
            "_dom_classes": [],
            "_model_module": "@jupyter-widgets/controls",
            "_model_module_version": "1.5.0",
            "_model_name": "FloatProgressModel",
            "_view_count": null,
            "_view_module": "@jupyter-widgets/controls",
            "_view_module_version": "1.5.0",
            "_view_name": "ProgressView",
            "bar_style": "",
            "description": "",
            "description_tooltip": null,
            "layout": "IPY_MODEL_a14d05a2b3bf43c2a9e3e90b4b9cb020",
            "max": 120,
            "min": 0,
            "orientation": "horizontal",
            "style": "IPY_MODEL_6d7102c9e6e64d9e925b64b53e36083c",
            "value": 0
          }
        },
        "a14d05a2b3bf43c2a9e3e90b4b9cb020": {
          "model_module": "@jupyter-widgets/base",
          "model_module_version": "1.2.0",
          "model_name": "LayoutModel",
          "state": {
            "_model_module": "@jupyter-widgets/base",
            "_model_module_version": "1.2.0",
            "_model_name": "LayoutModel",
            "_view_count": null,
            "_view_module": "@jupyter-widgets/base",
            "_view_module_version": "1.2.0",
            "_view_name": "LayoutView",
            "align_content": null,
            "align_items": null,
            "align_self": null,
            "border": null,
            "bottom": null,
            "display": null,
            "flex": null,
            "flex_flow": null,
            "grid_area": null,
            "grid_auto_columns": null,
            "grid_auto_flow": null,
            "grid_auto_rows": null,
            "grid_column": null,
            "grid_gap": null,
            "grid_row": null,
            "grid_template_areas": null,
            "grid_template_columns": null,
            "grid_template_rows": null,
            "height": null,
            "justify_content": null,
            "justify_items": null,
            "left": null,
            "margin": null,
            "max_height": null,
            "max_width": null,
            "min_height": null,
            "min_width": null,
            "object_fit": null,
            "object_position": null,
            "order": null,
            "overflow": null,
            "overflow_x": null,
            "overflow_y": null,
            "padding": null,
            "right": null,
            "top": null,
            "visibility": null,
            "width": null
          }
        },
        "b514fbe4b5fd429f933b259d5a3b5821": {
          "model_module": "@jupyter-widgets/controls",
          "model_module_version": "1.5.0",
          "model_name": "HTMLModel",
          "state": {
            "_dom_classes": [],
            "_model_module": "@jupyter-widgets/controls",
            "_model_module_version": "1.5.0",
            "_model_name": "HTMLModel",
            "_view_count": null,
            "_view_module": "@jupyter-widgets/controls",
            "_view_module_version": "1.5.0",
            "_view_name": "HTMLView",
            "description": "",
            "description_tooltip": null,
            "layout": "IPY_MODEL_6f3846c8945e4976afb3cc1f3c1dce92",
            "placeholder": "​",
            "style": "IPY_MODEL_4df9f2d0cf9945c28157e5310195db01",
            "value": " 0/120 [00:00&lt;?, ?it/s]"
          }
        },
        "edb6d6ffc02e4fedb0240b3c51c775db": {
          "model_module": "@jupyter-widgets/base",
          "model_module_version": "1.2.0",
          "model_name": "LayoutModel",
          "state": {
            "_model_module": "@jupyter-widgets/base",
            "_model_module_version": "1.2.0",
            "_model_name": "LayoutModel",
            "_view_count": null,
            "_view_module": "@jupyter-widgets/base",
            "_view_module_version": "1.2.0",
            "_view_name": "LayoutView",
            "align_content": null,
            "align_items": null,
            "align_self": null,
            "border": null,
            "bottom": null,
            "display": null,
            "flex": null,
            "flex_flow": null,
            "grid_area": null,
            "grid_auto_columns": null,
            "grid_auto_flow": null,
            "grid_auto_rows": null,
            "grid_column": null,
            "grid_gap": null,
            "grid_row": null,
            "grid_template_areas": null,
            "grid_template_columns": null,
            "grid_template_rows": null,
            "height": null,
            "justify_content": null,
            "justify_items": null,
            "left": null,
            "margin": null,
            "max_height": null,
            "max_width": null,
            "min_height": null,
            "min_width": null,
            "object_fit": null,
            "object_position": null,
            "order": null,
            "overflow": null,
            "overflow_x": null,
            "overflow_y": null,
            "padding": null,
            "right": null,
            "top": null,
            "visibility": null,
            "width": null
          }
        },
        "ee7d9a1881ed4d19bd9e01d534a7e785": {
          "model_module": "@jupyter-widgets/controls",
          "model_module_version": "1.5.0",
          "model_name": "DescriptionStyleModel",
          "state": {
            "_model_module": "@jupyter-widgets/controls",
            "_model_module_version": "1.5.0",
            "_model_name": "DescriptionStyleModel",
            "_view_count": null,
            "_view_module": "@jupyter-widgets/base",
            "_view_module_version": "1.2.0",
            "_view_name": "StyleView",
            "description_width": ""
          }
        },
        "f7a50711525b44dcb638ba046095b738": {
          "model_module": "@jupyter-widgets/base",
          "model_module_version": "1.2.0",
          "model_name": "LayoutModel",
          "state": {
            "_model_module": "@jupyter-widgets/base",
            "_model_module_version": "1.2.0",
            "_model_name": "LayoutModel",
            "_view_count": null,
            "_view_module": "@jupyter-widgets/base",
            "_view_module_version": "1.2.0",
            "_view_name": "LayoutView",
            "align_content": null,
            "align_items": null,
            "align_self": null,
            "border": null,
            "bottom": null,
            "display": null,
            "flex": null,
            "flex_flow": null,
            "grid_area": null,
            "grid_auto_columns": null,
            "grid_auto_flow": null,
            "grid_auto_rows": null,
            "grid_column": null,
            "grid_gap": null,
            "grid_row": null,
            "grid_template_areas": null,
            "grid_template_columns": null,
            "grid_template_rows": null,
            "height": null,
            "justify_content": null,
            "justify_items": null,
            "left": null,
            "margin": null,
            "max_height": null,
            "max_width": null,
            "min_height": null,
            "min_width": null,
            "object_fit": null,
            "object_position": null,
            "order": null,
            "overflow": null,
            "overflow_x": null,
            "overflow_y": null,
            "padding": null,
            "right": null,
            "top": null,
            "visibility": null,
            "width": null
          }
        },
        "f8dea46adfb34e488faef16d7823db95": {
          "model_module": "@jupyter-widgets/controls",
          "model_module_version": "1.5.0",
          "model_name": "HTMLModel",
          "state": {
            "_dom_classes": [],
            "_model_module": "@jupyter-widgets/controls",
            "_model_module_version": "1.5.0",
            "_model_name": "HTMLModel",
            "_view_count": null,
            "_view_module": "@jupyter-widgets/controls",
            "_view_module_version": "1.5.0",
            "_view_name": "HTMLView",
            "description": "",
            "description_tooltip": null,
            "layout": "IPY_MODEL_edb6d6ffc02e4fedb0240b3c51c775db",
            "placeholder": "​",
            "style": "IPY_MODEL_ee7d9a1881ed4d19bd9e01d534a7e785",
            "value": "Loading spectra 170418002701232 \n:   0%"
          }
        }
      }
    }
  },
  "nbformat": 4,
  "nbformat_minor": 0
}