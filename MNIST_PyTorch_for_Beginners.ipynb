{
  "nbformat": 4,
  "nbformat_minor": 0,
  "metadata": {
    "colab": {
      "provenance": [],
      "authorship_tag": "ABX9TyPczh0XFK+FXeKrTIfGmy+M",
      "include_colab_link": true
    },
    "kernelspec": {
      "name": "python3",
      "display_name": "Python 3"
    },
    "language_info": {
      "name": "python"
    },
    "accelerator": "GPU",
    "gpuClass": "standard"
  },
  "cells": [
    {
      "cell_type": "markdown",
      "metadata": {
        "id": "view-in-github",
        "colab_type": "text"
      },
      "source": [
        "<a href=\"https://colab.research.google.com/github/potohodnica/magistrska/blob/main/MNIST_PyTorch_for_Beginners.ipynb\" target=\"_parent\"><img src=\"https://colab.research.google.com/assets/colab-badge.svg\" alt=\"Open In Colab\"/></a>"
      ]
    },
    {
      "cell_type": "code",
      "execution_count": 1,
      "metadata": {
        "colab": {
          "base_uri": "https://localhost:8080/"
        },
        "id": "zahanwHlAd28",
        "outputId": "5ae03bae-4d0f-4ef4-f3e2-e5b52c3fb552"
      },
      "outputs": [
        {
          "output_type": "stream",
          "name": "stdout",
          "text": [
            "cuda:0\n"
          ]
        }
      ],
      "source": [
        "#PyTorch Specific libraries\n",
        "import torch\n",
        "from torch import nn, optim\n",
        "import torch.nn.functional as F\n",
        "from torch.autograd import Variable\n",
        "\n",
        "#Data manipulation and visualisation specific libraries\n",
        "import pandas as pd\n",
        "import numpy as np\n",
        "import matplotlib.pyplot as plt\n",
        "\n",
        "# For splitting the data into Train and Test set\n",
        "from sklearn.model_selection import train_test_split\n",
        "\n",
        "# This piece of code is required to make use of the GPU instead of CPU for faster processing\n",
        "device = torch.device(\"cuda:0\" if torch.cuda.is_available() else \"cpu\")\n",
        "print(device)\n",
        "\n",
        "#If it prints \"cuda:0\" that means it has access to GPU. If it prints out \"cpu\", then it's still running on CPU."
      ]
    },
    {
      "cell_type": "code",
      "source": [
        "train = pd.read_csv('https://raw.githubusercontent.com/wehrley/Kaggle-Digit-Recognizer/master/train.csv')\n",
        "test = pd.read_csv('https://raw.githubusercontent.com/wehrley/Kaggle-Digit-Recognizer/master/test.csv')\n",
        "\n",
        "#Let's check if they have been loaded properly\n",
        "print('train.shape:\\n', train.shape)\n",
        "print('test.shape:\\n', test.shape)"
      ],
      "metadata": {
        "colab": {
          "base_uri": "https://localhost:8080/"
        },
        "id": "Sdnv617GAlnb",
        "outputId": "cdaf7c88-302f-4db9-dd2b-43bb5a374dfa"
      },
      "execution_count": 2,
      "outputs": [
        {
          "output_type": "stream",
          "name": "stdout",
          "text": [
            "train.shape:\n",
            " (42000, 785)\n",
            "test.shape:\n",
            " (28000, 784)\n"
          ]
        }
      ]
    },
    {
      "cell_type": "code",
      "source": [
        "X = train.iloc[:,:-1]\n",
        "y = train.iloc[:,-1:] #Could have done like this \n",
        "y = train.label.values # but needed to convert it to np.ndarray for torch tensor conversion"
      ],
      "metadata": {
        "id": "wEAv_9S4Ar1T"
      },
      "execution_count": 3,
      "outputs": []
    },
    {
      "cell_type": "code",
      "source": [
        "print('X.shape: ', X.shape, 'X.type: ', type(X) )\n",
        "print('y.shape: ', y.shape, 'y.type: ', type(y) )"
      ],
      "metadata": {
        "colab": {
          "base_uri": "https://localhost:8080/"
        },
        "id": "YZOAC35HA8nK",
        "outputId": "6c899f47-06d1-4848-f52b-f9aa45b1597a"
      },
      "execution_count": 4,
      "outputs": [
        {
          "output_type": "stream",
          "name": "stdout",
          "text": [
            "X.shape:  (42000, 784) X.type:  <class 'pandas.core.frame.DataFrame'>\n",
            "y.shape:  (42000,) y.type:  <class 'numpy.ndarray'>\n"
          ]
        }
      ]
    },
    {
      "cell_type": "code",
      "source": [
        "X_train, X_test, y_train, y_test = train_test_split(X, y , test_size = 0.1, random_state = 1)\n",
        "\n",
        "print('X_train.shape: ', X_train.shape)\n",
        "print('y_train.shape: ', y_train.shape)\n",
        "print('X_test.shape: ', X_test.shape)\n",
        "print('y_test.shape: ', y_test.shape)"
      ],
      "metadata": {
        "colab": {
          "base_uri": "https://localhost:8080/"
        },
        "id": "mI0QeP-WA-6i",
        "outputId": "82663cd8-b9c5-475b-992d-30ced2968fcc"
      },
      "execution_count": 5,
      "outputs": [
        {
          "output_type": "stream",
          "name": "stdout",
          "text": [
            "X_train.shape:  (37800, 784)\n",
            "y_train.shape:  (37800,)\n",
            "X_test.shape:  (4200, 784)\n",
            "y_test.shape:  (4200,)\n"
          ]
        }
      ]
    },
    {
      "cell_type": "code",
      "source": [
        "#Rescaling values\n",
        "X_train = X_train.values/255\n",
        "X_test = X_test.values/255"
      ],
      "metadata": {
        "id": "qH76FQezBDAy"
      },
      "execution_count": 6,
      "outputs": []
    },
    {
      "cell_type": "code",
      "source": [
        "#Converting to Tensors\n",
        "X_train = torch.from_numpy(X_train)\n",
        "X_test = torch.from_numpy(X_test)\n",
        "\n",
        "y_train = torch.from_numpy(y_train).type(torch.LongTensor)\n",
        "y_test = torch.from_numpy(y_test).type(torch.LongTensor)\n",
        "\n",
        "print('X_train.dtype:', X_train.dtype)\n",
        "print('X_test.dtype:', X_test.dtype)\n",
        "print('y_train.dtype:', y_train.dtype)\n",
        "print('y_test.dtype:', y_test.dtype)"
      ],
      "metadata": {
        "colab": {
          "base_uri": "https://localhost:8080/"
        },
        "id": "cjClays3BE9y",
        "outputId": "9dab4fcb-500e-4ab5-a2df-81f752187a52"
      },
      "execution_count": 7,
      "outputs": [
        {
          "output_type": "stream",
          "name": "stdout",
          "text": [
            "X_train.dtype: torch.float64\n",
            "X_test.dtype: torch.float64\n",
            "y_train.dtype: torch.int64\n",
            "y_test.dtype: torch.int64\n"
          ]
        }
      ]
    },
    {
      "cell_type": "code",
      "source": [
        "train = torch.utils.data.TensorDataset(X_train, y_train)\n",
        "test = torch.utils.data.TensorDataset(X_test, y_test)\n",
        "\n",
        "batch = 100\n",
        "\n",
        "# Set our data loaders\n",
        "train_loader = torch.utils.data.DataLoader(train, batch_size = batch, shuffle = True)\n",
        "test_loader = torch.utils.data.DataLoader(test, batch_size = batch, shuffle = True)"
      ],
      "metadata": {
        "id": "_YlRdvqfBGgz"
      },
      "execution_count": 8,
      "outputs": []
    },
    {
      "cell_type": "code",
      "source": [
        "class Net(nn.Module):\n",
        "    \n",
        "    def __init__(self):\n",
        "        super().__init__()\n",
        "        \n",
        "        self.conv1 = nn.Conv2d(1, 128, 5)\n",
        "        self.pool1 = nn.MaxPool2d(2, 2)\n",
        "        self.drop1 = nn.Dropout(p=0.3)\n",
        "        \n",
        "        self.conv2 = nn.Conv2d(128, 224, 5)\n",
        "        self.pool2 = nn.MaxPool2d(2, 2)\n",
        "        self.drop2 = nn.Dropout(p=0.4)\n",
        "        \n",
        "        self.fc3 = nn.Linear(224*4*4, 64)\n",
        "        self.drop3 = nn.Dropout(p=0.4)\n",
        "        \n",
        "        self.fc4 = nn.Linear(64, 32)\n",
        "        self.drop4 = nn.Dropout(p=0.4)\n",
        "        \n",
        "        self.fc5 = nn.Linear(32, 10)\n",
        "        self.softmax = nn.Softmax(dim=1)\n",
        "   \n",
        "    \n",
        "    def forward(self, x):\n",
        "        x = self.drop1(self.pool1(F.relu(self.conv1(x))))\n",
        "        x = self.drop2(self.pool2(F.relu(self.conv2(x))))\n",
        "        \n",
        "        x = x.view(-1,224*4*4)\n",
        "        \n",
        "        x = self.drop3(F.relu(self.fc3(x)))\n",
        "        x = self.drop4(F.relu(self.fc4(x)))\n",
        "        \n",
        "        x = self.softmax(self.fc5(x))\n",
        "        \n",
        "        return x\n",
        "\n",
        "print(Net()) "
      ],
      "metadata": {
        "colab": {
          "base_uri": "https://localhost:8080/"
        },
        "id": "V6Z1uOiMBIvb",
        "outputId": "3cb1b581-f094-47e8-e7d3-c8e35aa13ee4"
      },
      "execution_count": 9,
      "outputs": [
        {
          "output_type": "stream",
          "name": "stdout",
          "text": [
            "Net(\n",
            "  (conv1): Conv2d(1, 128, kernel_size=(5, 5), stride=(1, 1))\n",
            "  (pool1): MaxPool2d(kernel_size=2, stride=2, padding=0, dilation=1, ceil_mode=False)\n",
            "  (drop1): Dropout(p=0.3, inplace=False)\n",
            "  (conv2): Conv2d(128, 224, kernel_size=(5, 5), stride=(1, 1))\n",
            "  (pool2): MaxPool2d(kernel_size=2, stride=2, padding=0, dilation=1, ceil_mode=False)\n",
            "  (drop2): Dropout(p=0.4, inplace=False)\n",
            "  (fc3): Linear(in_features=3584, out_features=64, bias=True)\n",
            "  (drop3): Dropout(p=0.4, inplace=False)\n",
            "  (fc4): Linear(in_features=64, out_features=32, bias=True)\n",
            "  (drop4): Dropout(p=0.4, inplace=False)\n",
            "  (fc5): Linear(in_features=32, out_features=10, bias=True)\n",
            "  (softmax): Softmax(dim=1)\n",
            ")\n"
          ]
        }
      ]
    },
    {
      "cell_type": "code",
      "source": [
        "#Making an object of the Net class\n",
        "model = Net().to(device)\n",
        "\n",
        "#Loss function\n",
        "criterion = nn.CrossEntropyLoss ()"
      ],
      "metadata": {
        "id": "ijvITtGXBOFM"
      },
      "execution_count": 10,
      "outputs": []
    },
    {
      "cell_type": "code",
      "source": [
        "# Optimizer\n",
        "optimizer = optim.Adam(model.parameters(), lr = 0.0015)"
      ],
      "metadata": {
        "id": "oWbh8SgCBSti"
      },
      "execution_count": 11,
      "outputs": []
    },
    {
      "cell_type": "code",
      "source": [
        "# Initialising variables\n",
        "epochs = 30\n",
        "steps = 0\n",
        "print_every = 100\n",
        "trainLoss = [] \n",
        "testLoss = []"
      ],
      "metadata": {
        "id": "28s-a2eyBVA6"
      },
      "execution_count": 12,
      "outputs": []
    },
    {
      "cell_type": "code",
      "source": [
        "for e in range(epochs):\n",
        "    running_loss = 0\n",
        "    for images, labels in train_loader:\n",
        "        steps += 1   # Forward pass\n",
        "        \n",
        "        images = (images.view(-1,1,28,28)).type(torch.DoubleTensor)\n",
        "        optimizer.zero_grad()\n",
        "        log_ps = model(images.type(torch.FloatTensor).to(device))\n",
        "        labels = labels.to(device)\n",
        "        loss = criterion(log_ps, labels)\n",
        "        loss.backward()   # Backward pass\n",
        "        optimizer.step()\n",
        "        \n",
        "        running_loss += loss.item()\n",
        "        if steps % print_every == 0:\n",
        "            test_loss = 0\n",
        "            accuracy = 0\n",
        "\n",
        "            with torch.no_grad():\n",
        "                model.eval()\n",
        "                for images, labels in test_loader:\n",
        "                    images = (images.view(-1,1,28,28)).type(torch.DoubleTensor)\n",
        "                    log_ps = model(images.type(torch.FloatTensor).to(device))\n",
        "                    labels = labels.to(device)\n",
        "                    test_loss += criterion(log_ps, labels)\n",
        "                    ps = torch.exp(log_ps)\n",
        "                    \n",
        "                    top_p, top_class = ps.topk(1, dim = 1)\n",
        "                    equals = top_class == labels.view(*top_class.shape)\n",
        "                    accuracy += torch.mean(equals.type(torch.FloatTensor))\n",
        "\n",
        "            model.train()\n",
        "\n",
        "            trainLoss.append(running_loss/len(train_loader))\n",
        "            testLoss.append(test_loss/len(test_loader))\n",
        "\n",
        "            print(\"Epoch: {}/{}.. \".format(e + 1, epochs),\n",
        "                  \"Test Accuracy: {:.3f}\".format(accuracy/len(test_loader)))"
      ],
      "metadata": {
        "colab": {
          "base_uri": "https://localhost:8080/"
        },
        "id": "66DCBVMjBXMS",
        "outputId": "ba713860-d4fa-4198-bc06-e6c049f48024"
      },
      "execution_count": 13,
      "outputs": [
        {
          "output_type": "stream",
          "name": "stdout",
          "text": [
            "Epoch: 1/30..  Test Accuracy: 0.739\n",
            "Epoch: 1/30..  Test Accuracy: 0.897\n",
            "Epoch: 1/30..  Test Accuracy: 0.944\n",
            "Epoch: 2/30..  Test Accuracy: 0.941\n",
            "Epoch: 2/30..  Test Accuracy: 0.959\n",
            "Epoch: 2/30..  Test Accuracy: 0.954\n",
            "Epoch: 2/30..  Test Accuracy: 0.954\n",
            "Epoch: 3/30..  Test Accuracy: 0.965\n",
            "Epoch: 3/30..  Test Accuracy: 0.963\n",
            "Epoch: 3/30..  Test Accuracy: 0.969\n",
            "Epoch: 3/30..  Test Accuracy: 0.970\n",
            "Epoch: 4/30..  Test Accuracy: 0.968\n",
            "Epoch: 4/30..  Test Accuracy: 0.971\n",
            "Epoch: 4/30..  Test Accuracy: 0.970\n",
            "Epoch: 4/30..  Test Accuracy: 0.971\n",
            "Epoch: 5/30..  Test Accuracy: 0.973\n",
            "Epoch: 5/30..  Test Accuracy: 0.970\n",
            "Epoch: 5/30..  Test Accuracy: 0.969\n",
            "Epoch: 6/30..  Test Accuracy: 0.972\n",
            "Epoch: 6/30..  Test Accuracy: 0.974\n",
            "Epoch: 6/30..  Test Accuracy: 0.974\n",
            "Epoch: 6/30..  Test Accuracy: 0.973\n",
            "Epoch: 7/30..  Test Accuracy: 0.973\n",
            "Epoch: 7/30..  Test Accuracy: 0.979\n",
            "Epoch: 7/30..  Test Accuracy: 0.974\n",
            "Epoch: 7/30..  Test Accuracy: 0.976\n",
            "Epoch: 8/30..  Test Accuracy: 0.974\n",
            "Epoch: 8/30..  Test Accuracy: 0.973\n",
            "Epoch: 8/30..  Test Accuracy: 0.976\n",
            "Epoch: 8/30..  Test Accuracy: 0.975\n",
            "Epoch: 9/30..  Test Accuracy: 0.980\n",
            "Epoch: 9/30..  Test Accuracy: 0.975\n",
            "Epoch: 9/30..  Test Accuracy: 0.976\n",
            "Epoch: 9/30..  Test Accuracy: 0.981\n",
            "Epoch: 10/30..  Test Accuracy: 0.979\n",
            "Epoch: 10/30..  Test Accuracy: 0.977\n",
            "Epoch: 10/30..  Test Accuracy: 0.977\n",
            "Epoch: 11/30..  Test Accuracy: 0.969\n",
            "Epoch: 11/30..  Test Accuracy: 0.974\n",
            "Epoch: 11/30..  Test Accuracy: 0.977\n",
            "Epoch: 11/30..  Test Accuracy: 0.976\n",
            "Epoch: 12/30..  Test Accuracy: 0.977\n",
            "Epoch: 12/30..  Test Accuracy: 0.978\n",
            "Epoch: 12/30..  Test Accuracy: 0.979\n",
            "Epoch: 12/30..  Test Accuracy: 0.979\n",
            "Epoch: 13/30..  Test Accuracy: 0.979\n",
            "Epoch: 13/30..  Test Accuracy: 0.980\n",
            "Epoch: 13/30..  Test Accuracy: 0.977\n",
            "Epoch: 13/30..  Test Accuracy: 0.980\n",
            "Epoch: 14/30..  Test Accuracy: 0.975\n",
            "Epoch: 14/30..  Test Accuracy: 0.979\n",
            "Epoch: 14/30..  Test Accuracy: 0.980\n",
            "Epoch: 15/30..  Test Accuracy: 0.979\n",
            "Epoch: 15/30..  Test Accuracy: 0.981\n",
            "Epoch: 15/30..  Test Accuracy: 0.976\n",
            "Epoch: 15/30..  Test Accuracy: 0.976\n",
            "Epoch: 16/30..  Test Accuracy: 0.981\n",
            "Epoch: 16/30..  Test Accuracy: 0.979\n",
            "Epoch: 16/30..  Test Accuracy: 0.982\n",
            "Epoch: 16/30..  Test Accuracy: 0.981\n",
            "Epoch: 17/30..  Test Accuracy: 0.981\n",
            "Epoch: 17/30..  Test Accuracy: 0.981\n",
            "Epoch: 17/30..  Test Accuracy: 0.982\n",
            "Epoch: 17/30..  Test Accuracy: 0.978\n",
            "Epoch: 18/30..  Test Accuracy: 0.980\n",
            "Epoch: 18/30..  Test Accuracy: 0.979\n",
            "Epoch: 18/30..  Test Accuracy: 0.980\n",
            "Epoch: 18/30..  Test Accuracy: 0.976\n",
            "Epoch: 19/30..  Test Accuracy: 0.980\n",
            "Epoch: 19/30..  Test Accuracy: 0.978\n",
            "Epoch: 19/30..  Test Accuracy: 0.982\n",
            "Epoch: 20/30..  Test Accuracy: 0.981\n",
            "Epoch: 20/30..  Test Accuracy: 0.983\n",
            "Epoch: 20/30..  Test Accuracy: 0.980\n",
            "Epoch: 20/30..  Test Accuracy: 0.982\n",
            "Epoch: 21/30..  Test Accuracy: 0.980\n",
            "Epoch: 21/30..  Test Accuracy: 0.977\n",
            "Epoch: 21/30..  Test Accuracy: 0.976\n",
            "Epoch: 21/30..  Test Accuracy: 0.979\n",
            "Epoch: 22/30..  Test Accuracy: 0.977\n",
            "Epoch: 22/30..  Test Accuracy: 0.977\n",
            "Epoch: 22/30..  Test Accuracy: 0.979\n",
            "Epoch: 22/30..  Test Accuracy: 0.978\n",
            "Epoch: 23/30..  Test Accuracy: 0.980\n",
            "Epoch: 23/30..  Test Accuracy: 0.979\n",
            "Epoch: 23/30..  Test Accuracy: 0.976\n",
            "Epoch: 24/30..  Test Accuracy: 0.980\n",
            "Epoch: 24/30..  Test Accuracy: 0.979\n",
            "Epoch: 24/30..  Test Accuracy: 0.978\n",
            "Epoch: 24/30..  Test Accuracy: 0.979\n",
            "Epoch: 25/30..  Test Accuracy: 0.975\n",
            "Epoch: 25/30..  Test Accuracy: 0.981\n",
            "Epoch: 25/30..  Test Accuracy: 0.981\n",
            "Epoch: 25/30..  Test Accuracy: 0.977\n",
            "Epoch: 26/30..  Test Accuracy: 0.977\n",
            "Epoch: 26/30..  Test Accuracy: 0.979\n",
            "Epoch: 26/30..  Test Accuracy: 0.982\n",
            "Epoch: 26/30..  Test Accuracy: 0.981\n",
            "Epoch: 27/30..  Test Accuracy: 0.982\n",
            "Epoch: 27/30..  Test Accuracy: 0.977\n",
            "Epoch: 27/30..  Test Accuracy: 0.978\n",
            "Epoch: 27/30..  Test Accuracy: 0.972\n",
            "Epoch: 28/30..  Test Accuracy: 0.978\n",
            "Epoch: 28/30..  Test Accuracy: 0.980\n",
            "Epoch: 28/30..  Test Accuracy: 0.981\n",
            "Epoch: 29/30..  Test Accuracy: 0.979\n",
            "Epoch: 29/30..  Test Accuracy: 0.974\n",
            "Epoch: 29/30..  Test Accuracy: 0.980\n",
            "Epoch: 29/30..  Test Accuracy: 0.979\n",
            "Epoch: 30/30..  Test Accuracy: 0.984\n",
            "Epoch: 30/30..  Test Accuracy: 0.977\n",
            "Epoch: 30/30..  Test Accuracy: 0.975\n",
            "Epoch: 30/30..  Test Accuracy: 0.981\n"
          ]
        }
      ]
    },
    {
      "cell_type": "code",
      "source": [
        "%matplotlib inline\n",
        "testLoss_list = []\n",
        "for element in testLoss:\n",
        "  testLoss_list.append(element.tolist())\n",
        "\n",
        "plt.plot(trainLoss, label = 'Training Loss')\n",
        "plt.plot(testLoss_list, label = 'Validation Loss')\n",
        "plt.legend(frameon = False)"
      ],
      "metadata": {
        "colab": {
          "base_uri": "https://localhost:8080/",
          "height": 283
        },
        "id": "VymVaJpRBZeS",
        "outputId": "f6a3093e-6134-4daa-ae7f-4d118d123577"
      },
      "execution_count": 31,
      "outputs": [
        {
          "output_type": "execute_result",
          "data": {
            "text/plain": [
              "<matplotlib.legend.Legend at 0x7f3d9f323760>"
            ]
          },
          "metadata": {},
          "execution_count": 31
        },
        {
          "output_type": "display_data",
          "data": {
            "text/plain": [
              "<Figure size 432x288 with 1 Axes>"
            ],
            "image/png": "[encoded data removed]"
          },
          "metadata": {
            "needs_background": "light"
          }
        }
      ]
    },
    {
      "cell_type": "code",
      "source": [
        "!wget https://www.google.com/images/branding/googlelogo/1x/googlelogo_color_272x92dp.png"
      ],
      "metadata": {
        "colab": {
          "base_uri": "https://localhost:8080/"
        },
        "id": "TWMGXDZND4Tj",
        "outputId": "ff7db452-f612-4484-e72d-40b423d24aa4"
      },
      "execution_count": 1,
      "outputs": [
        {
          "output_type": "stream",
          "name": "stdout",
          "text": [
            "--2023-02-07 07:31:10--  https://www.google.com/images/branding/googlelogo/1x/googlelogo_color_272x92dp.png\n",
            "Resolving www.google.com (www.google.com)... 108.177.127.105, 108.177.127.106, 108.177.127.99, ...\n",
            "Connecting to www.google.com (www.google.com)|108.177.127.105|:443... connected.\n",
            "HTTP request sent, awaiting response... 200 OK\n",
            "Length: 5969 (5.8K) [image/png]\n",
            "Saving to: ‘googlelogo_color_272x92dp.png’\n",
            "\n",
            "\r          googlelog   0%[                    ]       0  --.-KB/s               \rgooglelogo_color_27 100%[===================>]   5.83K  --.-KB/s    in 0s      \n",
            "\n",
            "2023-02-07 07:31:10 (51.9 MB/s) - ‘googlelogo_color_272x92dp.png’ saved [5969/5969]\n",
            "\n"
          ]
        }
      ]
    }
  ]
}